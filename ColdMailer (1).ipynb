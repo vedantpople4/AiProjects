{
  "cells": [
    {
      "cell_type": "code",
      "execution_count": 1,
      "metadata": {
        "id": "38mXe0gEh04w"
      },
      "outputs": [],
      "source": [
        "import pandas as pd\n",
        "import numpy as np"
      ]
    },
    {
      "cell_type": "code",
      "execution_count": 14,
      "metadata": {
        "id": "GIsrOMpdjuDH"
      },
      "outputs": [],
      "source": [
        "API_KEY = ''\n",
        "EMAIL_PWD = ''"
      ]
    },
    {
      "cell_type": "code",
      "source": [
        "import pandas as pd\n",
        "data = pd.read_csv('data.csv')\n",
        "data.head()"
      ],
      "metadata": {
        "colab": {
          "base_uri": "https://localhost:8080/",
          "height": 81
        },
        "collapsed": true,
        "id": "gqLuky6-4K4F",
        "outputId": "17cf9680-0d2a-4558-b5e2-0ce893ba366a"
      },
      "execution_count": 15,
      "outputs": [
        {
          "output_type": "execute_result",
          "data": {
            "text/plain": [
              "  Name              Email           Position Company  \\\n",
              "0  XYZ  vpople4@gmail.com  Software Engineer     ABC   \n",
              "\n",
              "                       Key Words  \n",
              "0  Java, Javascript, Python, AWS  "
            ],
            "text/html": [
              "\n",
              "  <div id=\"df-0c7f8d01-077f-4bc0-90f6-b07018f77c45\" class=\"colab-df-container\">\n",
              "    <div>\n",
              "<style scoped>\n",
              "    .dataframe tbody tr th:only-of-type {\n",
              "        vertical-align: middle;\n",
              "    }\n",
              "\n",
              "    .dataframe tbody tr th {\n",
              "        vertical-align: top;\n",
              "    }\n",
              "\n",
              "    .dataframe thead th {\n",
              "        text-align: right;\n",
              "    }\n",
              "</style>\n",
              "<table border=\"1\" class=\"dataframe\">\n",
              "  <thead>\n",
              "    <tr style=\"text-align: right;\">\n",
              "      <th></th>\n",
              "      <th>Name</th>\n",
              "      <th>Email</th>\n",
              "      <th>Position</th>\n",
              "      <th>Company</th>\n",
              "      <th>Key Words</th>\n",
              "    </tr>\n",
              "  </thead>\n",
              "  <tbody>\n",
              "    <tr>\n",
              "      <th>0</th>\n",
              "      <td>XYZ</td>\n",
              "      <td>vpople4@gmail.com</td>\n",
              "      <td>Software Engineer</td>\n",
              "      <td>ABC</td>\n",
              "      <td>Java, Javascript, Python, AWS</td>\n",
              "    </tr>\n",
              "  </tbody>\n",
              "</table>\n",
              "</div>\n",
              "    <div class=\"colab-df-buttons\">\n",
              "\n",
              "  <div class=\"colab-df-container\">\n",
              "    <button class=\"colab-df-convert\" onclick=\"convertToInteractive('df-0c7f8d01-077f-4bc0-90f6-b07018f77c45')\"\n",
              "            title=\"Convert this dataframe to an interactive table.\"\n",
              "            style=\"display:none;\">\n",
              "\n",
              "  <svg xmlns=\"http://www.w3.org/2000/svg\" height=\"24px\" viewBox=\"0 -960 960 960\">\n",
              "    <path d=\"M120-120v-720h720v720H120Zm60-500h600v-160H180v160Zm220 220h160v-160H400v160Zm0 220h160v-160H400v160ZM180-400h160v-160H180v160Zm440 0h160v-160H620v160ZM180-180h160v-160H180v160Zm440 0h160v-160H620v160Z\"/>\n",
              "  </svg>\n",
              "    </button>\n",
              "\n",
              "  <style>\n",
              "    .colab-df-container {\n",
              "      display:flex;\n",
              "      gap: 12px;\n",
              "    }\n",
              "\n",
              "    .colab-df-convert {\n",
              "      background-color: #E8F0FE;\n",
              "      border: none;\n",
              "      border-radius: 50%;\n",
              "      cursor: pointer;\n",
              "      display: none;\n",
              "      fill: #1967D2;\n",
              "      height: 32px;\n",
              "      padding: 0 0 0 0;\n",
              "      width: 32px;\n",
              "    }\n",
              "\n",
              "    .colab-df-convert:hover {\n",
              "      background-color: #E2EBFA;\n",
              "      box-shadow: 0px 1px 2px rgba(60, 64, 67, 0.3), 0px 1px 3px 1px rgba(60, 64, 67, 0.15);\n",
              "      fill: #174EA6;\n",
              "    }\n",
              "\n",
              "    .colab-df-buttons div {\n",
              "      margin-bottom: 4px;\n",
              "    }\n",
              "\n",
              "    [theme=dark] .colab-df-convert {\n",
              "      background-color: #3B4455;\n",
              "      fill: #D2E3FC;\n",
              "    }\n",
              "\n",
              "    [theme=dark] .colab-df-convert:hover {\n",
              "      background-color: #434B5C;\n",
              "      box-shadow: 0px 1px 3px 1px rgba(0, 0, 0, 0.15);\n",
              "      filter: drop-shadow(0px 1px 2px rgba(0, 0, 0, 0.3));\n",
              "      fill: #FFFFFF;\n",
              "    }\n",
              "  </style>\n",
              "\n",
              "    <script>\n",
              "      const buttonEl =\n",
              "        document.querySelector('#df-0c7f8d01-077f-4bc0-90f6-b07018f77c45 button.colab-df-convert');\n",
              "      buttonEl.style.display =\n",
              "        google.colab.kernel.accessAllowed ? 'block' : 'none';\n",
              "\n",
              "      async function convertToInteractive(key) {\n",
              "        const element = document.querySelector('#df-0c7f8d01-077f-4bc0-90f6-b07018f77c45');\n",
              "        const dataTable =\n",
              "          await google.colab.kernel.invokeFunction('convertToInteractive',\n",
              "                                                    [key], {});\n",
              "        if (!dataTable) return;\n",
              "\n",
              "        const docLinkHtml = 'Like what you see? Visit the ' +\n",
              "          '<a target=\"_blank\" href=https://colab.research.google.com/notebooks/data_table.ipynb>data table notebook</a>'\n",
              "          + ' to learn more about interactive tables.';\n",
              "        element.innerHTML = '';\n",
              "        dataTable['output_type'] = 'display_data';\n",
              "        await google.colab.output.renderOutput(dataTable, element);\n",
              "        const docLink = document.createElement('div');\n",
              "        docLink.innerHTML = docLinkHtml;\n",
              "        element.appendChild(docLink);\n",
              "      }\n",
              "    </script>\n",
              "  </div>\n",
              "\n",
              "\n",
              "    </div>\n",
              "  </div>\n"
            ],
            "application/vnd.google.colaboratory.intrinsic+json": {
              "type": "dataframe",
              "variable_name": "data",
              "summary": "{\n  \"name\": \"data\",\n  \"rows\": 1,\n  \"fields\": [\n    {\n      \"column\": \"Name\",\n      \"properties\": {\n        \"dtype\": \"string\",\n        \"num_unique_values\": 1,\n        \"samples\": [\n          \"XYZ\"\n        ],\n        \"semantic_type\": \"\",\n        \"description\": \"\"\n      }\n    },\n    {\n      \"column\": \"Email\",\n      \"properties\": {\n        \"dtype\": \"string\",\n        \"num_unique_values\": 1,\n        \"samples\": [\n          \"vpople4@gmail.com\"\n        ],\n        \"semantic_type\": \"\",\n        \"description\": \"\"\n      }\n    },\n    {\n      \"column\": \"Position\",\n      \"properties\": {\n        \"dtype\": \"string\",\n        \"num_unique_values\": 1,\n        \"samples\": [\n          \"Software Engineer\"\n        ],\n        \"semantic_type\": \"\",\n        \"description\": \"\"\n      }\n    },\n    {\n      \"column\": \"Company\",\n      \"properties\": {\n        \"dtype\": \"string\",\n        \"num_unique_values\": 1,\n        \"samples\": [\n          \"ABC\"\n        ],\n        \"semantic_type\": \"\",\n        \"description\": \"\"\n      }\n    },\n    {\n      \"column\": \"Key Words\",\n      \"properties\": {\n        \"dtype\": \"string\",\n        \"num_unique_values\": 1,\n        \"samples\": [\n          \"Java, Javascript, Python, AWS\"\n        ],\n        \"semantic_type\": \"\",\n        \"description\": \"\"\n      }\n    }\n  ]\n}"
            }
          },
          "metadata": {},
          "execution_count": 15
        }
      ]
    },
    {
      "cell_type": "code",
      "source": [
        "import smtplib as s\n",
        "from email.mime.multipart import MIMEMultipart\n",
        "from email.mime.text import MIMEText\n",
        "from email.mime.base import MIMEBase\n",
        "from email import encoders\n",
        "import google.generativeai as genai\n",
        "\n",
        "def generate_email_body(name, position, keywords, company):\n",
        "    genai.configure(api_key=API_KEY)\n",
        "    model = genai.GenerativeModel('gemini-pro')\n",
        "    prompt = f\"Write a professional email body for a cold outreach to a recruiter named {name} for the position of {position} at {company}, showing keen interest, relevant skills from given skills, mentioning previous startup experience and ability to build from scratch.\\n Skills: {keywords}. Limit the response to 200 words. Replace [Your Name] with Vedant Pople. Don't use any [Company Name]. Don't use any other [ ].\"\n",
        "    response = model.generate_content(prompt)\n",
        "    return response.text\n",
        "\n",
        "object = s.SMTP('smtp.gmail.com', 587)\n",
        "object.ehlo()\n",
        "object.starttls()\n",
        "object.login('vpople4@gmail.com', EMAIL_PWD)\n",
        "\n",
        "for index, row in data.iterrows():\n",
        "    name = row['Name']\n",
        "    email = row['Email']\n",
        "    position = row['Position']\n",
        "    company = row['Company']\n",
        "    keywords = row['Key Words']\n",
        "\n",
        "    subject = f\"Excited to apply for {position} position at your company.\"\n",
        "\n",
        "    body = generate_email_body(name, position, keywords, company)\n",
        "    print(\"Generated email body:\")\n",
        "    print(body)\n",
        "\n",
        "    user_input = input(\"Would you like to make changes to the email body? (yes/no): \").lower()\n",
        "\n",
        "    if user_input == 'yes':\n",
        "        print(\"Please enter the modified email body. Press Enter twice when you're done:\")\n",
        "        modified_body = []\n",
        "        while True:\n",
        "            line = input()\n",
        "            if line == \"\":\n",
        "                break\n",
        "            modified_body.append(line)\n",
        "        body = \"\\n\".join(modified_body)\n",
        "\n",
        "    msg = MIMEMultipart()\n",
        "    msg[\"From\"] = 'vpople4@gmail.com'\n",
        "    msg[\"To\"] = email\n",
        "    msg[\"Subject\"] = subject\n",
        "    msg.attach(MIMEText(body, 'plain'))\n",
        "\n",
        "    filepath2 = r'VM-Pople-CV.pdf'\n",
        "    attachments = [filepath2]\n",
        "\n",
        "    for filepath in attachments:\n",
        "        filename = filepath.split('\\\\')[-1]\n",
        "        with open(filepath, 'rb') as attachment:\n",
        "            part = MIMEBase('application', 'octet-stream')\n",
        "            part.set_payload(attachment.read())\n",
        "            encoders.encode_base64(part)\n",
        "            part.add_header('Content-Disposition', f'attachment; filename={filename}')\n",
        "            msg.attach(part)\n",
        "\n",
        "    send_confirmation = input(\"Do you want to send this email? (yes/no): \").lower()\n",
        "\n",
        "    if send_confirmation == 'yes':\n",
        "        # Send email\n",
        "        object.send_message(msg)\n",
        "        print(\"Email sent successfully!\")\n",
        "    else:\n",
        "        print(\"Email sending cancelled.\")\n",
        "\n",
        "object.quit()"
      ],
      "metadata": {
        "colab": {
          "base_uri": "https://localhost:8080/",
          "height": 315
        },
        "id": "T-ZyTMpk3Y51",
        "outputId": "faccdfa7-4ca8-4dc8-fa6c-050a19818a66"
      },
      "execution_count": 19,
      "outputs": [
        {
          "output_type": "stream",
          "name": "stdout",
          "text": [
            "Generated email body:\n",
            "Dear XYZ,\n",
            "\n",
            "I am writing to express my keen interest in the Software Engineer position at ABC. With my expertise in Java, JavaScript, Python, and AWS, I am confident in my ability to make a significant contribution to your team.\n",
            "\n",
            "Throughout my previous startup experience, I have successfully built software solutions from scratch. This hands-on experience has equipped me with the ability to analyze requirements, design scalable architectures, and deliver high-quality code. I am eager to apply my skills and contribute to the growth of ABC.\n",
            "\n",
            "Thank you for considering my application. I am available for an interview at your earliest convenience.\n",
            "\n",
            "Sincerely,\n",
            "Vedant Pople\n",
            "Would you like to make changes to the email body? (yes/no): no\n",
            "Do you want to send this email? (yes/no): yes\n",
            "Email sent successfully!\n"
          ]
        },
        {
          "output_type": "execute_result",
          "data": {
            "text/plain": [
              "(221,\n",
              " b'2.0.0 closing connection d9443c01a7336-220d5349024sm95117125ad.8 - gsmtp')"
            ]
          },
          "metadata": {},
          "execution_count": 19
        }
      ]
    },
    {
      "cell_type": "code",
      "source": [],
      "metadata": {
        "id": "6UaTBrR5oZY-"
      },
      "execution_count": null,
      "outputs": []
    }
  ],
  "metadata": {
    "colab": {
      "provenance": []
    },
    "kernelspec": {
      "display_name": "Python 3",
      "name": "python3"
    },
    "language_info": {
      "name": "python"
    }
  },
  "nbformat": 4,
  "nbformat_minor": 0
}