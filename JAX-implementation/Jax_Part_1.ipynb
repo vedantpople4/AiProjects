{
  "metadata": {
    "kernelspec": {
      "display_name": "Python 3",
      "name": "python3"
    },
    "language_info": {
      "name": "python",
      "version": "3.7.12",
      "mimetype": "text/x-python",
      "codemirror_mode": {
        "name": "ipython",
        "version": 3
      },
      "pygments_lexer": "ipython3",
      "nbconvert_exporter": "python",
      "file_extension": ".py"
    },
    "kaggle": {
      "accelerator": "gpu",
      "dataSources": [
        {
          "sourceId": 5912,
          "sourceType": "datasetVersion",
          "datasetId": 3732
        },
        {
          "sourceId": 5944,
          "sourceType": "datasetVersion",
          "datasetId": 3759
        }
      ],
      "dockerImageVersionId": 30152,
      "isInternetEnabled": false,
      "language": "python",
      "sourceType": "notebook",
      "isGpuEnabled": true
    },
    "colab": {
      "provenance": [],
      "gpuType": "T4"
    },
    "accelerator": "GPU",
    "widgets": {
      "application/vnd.jupyter.widget-state+json": {
        "6ef6991a608e4b679b0466550418bd0a": {
          "model_module": "@jupyter-widgets/controls",
          "model_name": "HBoxModel",
          "model_module_version": "1.5.0",
          "state": {
            "_dom_classes": [],
            "_model_module": "@jupyter-widgets/controls",
            "_model_module_version": "1.5.0",
            "_model_name": "HBoxModel",
            "_view_count": null,
            "_view_module": "@jupyter-widgets/controls",
            "_view_module_version": "1.5.0",
            "_view_name": "HBoxView",
            "box_style": "",
            "children": [
              "IPY_MODEL_c82bed2424fe4fb7bbdd0b9193b10e19",
              "IPY_MODEL_56139944f4e7486dbe7ddc4d69ac91cb",
              "IPY_MODEL_2e44061a4c9d4facb4bc65c2e17c6bfc"
            ],
            "layout": "IPY_MODEL_f64e63311a82408690796b6a4ead6efb"
          }
        },
        "c82bed2424fe4fb7bbdd0b9193b10e19": {
          "model_module": "@jupyter-widgets/controls",
          "model_name": "HTMLModel",
          "model_module_version": "1.5.0",
          "state": {
            "_dom_classes": [],
            "_model_module": "@jupyter-widgets/controls",
            "_model_module_version": "1.5.0",
            "_model_name": "HTMLModel",
            "_view_count": null,
            "_view_module": "@jupyter-widgets/controls",
            "_view_module_version": "1.5.0",
            "_view_name": "HTMLView",
            "description": "",
            "description_tooltip": null,
            "layout": "IPY_MODEL_c8333ffca1654dd58446bfd3605f4356",
            "placeholder": "​",
            "style": "IPY_MODEL_9dad7d51dd8c47d291afc238f2c61ef2",
            "value": "Training...: 100%"
          }
        },
        "56139944f4e7486dbe7ddc4d69ac91cb": {
          "model_module": "@jupyter-widgets/controls",
          "model_name": "FloatProgressModel",
          "model_module_version": "1.5.0",
          "state": {
            "_dom_classes": [],
            "_model_module": "@jupyter-widgets/controls",
            "_model_module_version": "1.5.0",
            "_model_name": "FloatProgressModel",
            "_view_count": null,
            "_view_module": "@jupyter-widgets/controls",
            "_view_module_version": "1.5.0",
            "_view_name": "ProgressView",
            "bar_style": "success",
            "description": "",
            "description_tooltip": null,
            "layout": "IPY_MODEL_53fe55392ae14bbb8b54e31f565c18ac",
            "max": 2000,
            "min": 0,
            "orientation": "horizontal",
            "style": "IPY_MODEL_97fd4584ba014fef9edbb464a3c06601",
            "value": 2000
          }
        },
        "2e44061a4c9d4facb4bc65c2e17c6bfc": {
          "model_module": "@jupyter-widgets/controls",
          "model_name": "HTMLModel",
          "model_module_version": "1.5.0",
          "state": {
            "_dom_classes": [],
            "_model_module": "@jupyter-widgets/controls",
            "_model_module_version": "1.5.0",
            "_model_name": "HTMLModel",
            "_view_count": null,
            "_view_module": "@jupyter-widgets/controls",
            "_view_module_version": "1.5.0",
            "_view_name": "HTMLView",
            "description": "",
            "description_tooltip": null,
            "layout": "IPY_MODEL_ac0bea7424794aa4a066ed471ba77f0a",
            "placeholder": "​",
            "style": "IPY_MODEL_5aef64bc906446d2af0b19a1c9f61d6f",
            "value": " 2000/2000 [00:00&lt;00:00, 4383.47it/s]"
          }
        },
        "f64e63311a82408690796b6a4ead6efb": {
          "model_module": "@jupyter-widgets/base",
          "model_name": "LayoutModel",
          "model_module_version": "1.2.0",
          "state": {
            "_model_module": "@jupyter-widgets/base",
            "_model_module_version": "1.2.0",
            "_model_name": "LayoutModel",
            "_view_count": null,
            "_view_module": "@jupyter-widgets/base",
            "_view_module_version": "1.2.0",
            "_view_name": "LayoutView",
            "align_content": null,
            "align_items": null,
            "align_self": null,
            "border": null,
            "bottom": null,
            "display": null,
            "flex": null,
            "flex_flow": null,
            "grid_area": null,
            "grid_auto_columns": null,
            "grid_auto_flow": null,
            "grid_auto_rows": null,
            "grid_column": null,
            "grid_gap": null,
            "grid_row": null,
            "grid_template_areas": null,
            "grid_template_columns": null,
            "grid_template_rows": null,
            "height": null,
            "justify_content": null,
            "justify_items": null,
            "left": null,
            "margin": null,
            "max_height": null,
            "max_width": null,
            "min_height": null,
            "min_width": null,
            "object_fit": null,
            "object_position": null,
            "order": null,
            "overflow": null,
            "overflow_x": null,
            "overflow_y": null,
            "padding": null,
            "right": null,
            "top": null,
            "visibility": null,
            "width": null
          }
        },
        "c8333ffca1654dd58446bfd3605f4356": {
          "model_module": "@jupyter-widgets/base",
          "model_name": "LayoutModel",
          "model_module_version": "1.2.0",
          "state": {
            "_model_module": "@jupyter-widgets/base",
            "_model_module_version": "1.2.0",
            "_model_name": "LayoutModel",
            "_view_count": null,
            "_view_module": "@jupyter-widgets/base",
            "_view_module_version": "1.2.0",
            "_view_name": "LayoutView",
            "align_content": null,
            "align_items": null,
            "align_self": null,
            "border": null,
            "bottom": null,
            "display": null,
            "flex": null,
            "flex_flow": null,
            "grid_area": null,
            "grid_auto_columns": null,
            "grid_auto_flow": null,
            "grid_auto_rows": null,
            "grid_column": null,
            "grid_gap": null,
            "grid_row": null,
            "grid_template_areas": null,
            "grid_template_columns": null,
            "grid_template_rows": null,
            "height": null,
            "justify_content": null,
            "justify_items": null,
            "left": null,
            "margin": null,
            "max_height": null,
            "max_width": null,
            "min_height": null,
            "min_width": null,
            "object_fit": null,
            "object_position": null,
            "order": null,
            "overflow": null,
            "overflow_x": null,
            "overflow_y": null,
            "padding": null,
            "right": null,
            "top": null,
            "visibility": null,
            "width": null
          }
        },
        "9dad7d51dd8c47d291afc238f2c61ef2": {
          "model_module": "@jupyter-widgets/controls",
          "model_name": "DescriptionStyleModel",
          "model_module_version": "1.5.0",
          "state": {
            "_model_module": "@jupyter-widgets/controls",
            "_model_module_version": "1.5.0",
            "_model_name": "DescriptionStyleModel",
            "_view_count": null,
            "_view_module": "@jupyter-widgets/base",
            "_view_module_version": "1.2.0",
            "_view_name": "StyleView",
            "description_width": ""
          }
        },
        "53fe55392ae14bbb8b54e31f565c18ac": {
          "model_module": "@jupyter-widgets/base",
          "model_name": "LayoutModel",
          "model_module_version": "1.2.0",
          "state": {
            "_model_module": "@jupyter-widgets/base",
            "_model_module_version": "1.2.0",
            "_model_name": "LayoutModel",
            "_view_count": null,
            "_view_module": "@jupyter-widgets/base",
            "_view_module_version": "1.2.0",
            "_view_name": "LayoutView",
            "align_content": null,
            "align_items": null,
            "align_self": null,
            "border": null,
            "bottom": null,
            "display": null,
            "flex": null,
            "flex_flow": null,
            "grid_area": null,
            "grid_auto_columns": null,
            "grid_auto_flow": null,
            "grid_auto_rows": null,
            "grid_column": null,
            "grid_gap": null,
            "grid_row": null,
            "grid_template_areas": null,
            "grid_template_columns": null,
            "grid_template_rows": null,
            "height": null,
            "justify_content": null,
            "justify_items": null,
            "left": null,
            "margin": null,
            "max_height": null,
            "max_width": null,
            "min_height": null,
            "min_width": null,
            "object_fit": null,
            "object_position": null,
            "order": null,
            "overflow": null,
            "overflow_x": null,
            "overflow_y": null,
            "padding": null,
            "right": null,
            "top": null,
            "visibility": null,
            "width": null
          }
        },
        "97fd4584ba014fef9edbb464a3c06601": {
          "model_module": "@jupyter-widgets/controls",
          "model_name": "ProgressStyleModel",
          "model_module_version": "1.5.0",
          "state": {
            "_model_module": "@jupyter-widgets/controls",
            "_model_module_version": "1.5.0",
            "_model_name": "ProgressStyleModel",
            "_view_count": null,
            "_view_module": "@jupyter-widgets/base",
            "_view_module_version": "1.2.0",
            "_view_name": "StyleView",
            "bar_color": null,
            "description_width": ""
          }
        },
        "ac0bea7424794aa4a066ed471ba77f0a": {
          "model_module": "@jupyter-widgets/base",
          "model_name": "LayoutModel",
          "model_module_version": "1.2.0",
          "state": {
            "_model_module": "@jupyter-widgets/base",
            "_model_module_version": "1.2.0",
            "_model_name": "LayoutModel",
            "_view_count": null,
            "_view_module": "@jupyter-widgets/base",
            "_view_module_version": "1.2.0",
            "_view_name": "LayoutView",
            "align_content": null,
            "align_items": null,
            "align_self": null,
            "border": null,
            "bottom": null,
            "display": null,
            "flex": null,
            "flex_flow": null,
            "grid_area": null,
            "grid_auto_columns": null,
            "grid_auto_flow": null,
            "grid_auto_rows": null,
            "grid_column": null,
            "grid_gap": null,
            "grid_row": null,
            "grid_template_areas": null,
            "grid_template_columns": null,
            "grid_template_rows": null,
            "height": null,
            "justify_content": null,
            "justify_items": null,
            "left": null,
            "margin": null,
            "max_height": null,
            "max_width": null,
            "min_height": null,
            "min_width": null,
            "object_fit": null,
            "object_position": null,
            "order": null,
            "overflow": null,
            "overflow_x": null,
            "overflow_y": null,
            "padding": null,
            "right": null,
            "top": null,
            "visibility": null,
            "width": null
          }
        },
        "5aef64bc906446d2af0b19a1c9f61d6f": {
          "model_module": "@jupyter-widgets/controls",
          "model_name": "DescriptionStyleModel",
          "model_module_version": "1.5.0",
          "state": {
            "_model_module": "@jupyter-widgets/controls",
            "_model_module_version": "1.5.0",
            "_model_name": "DescriptionStyleModel",
            "_view_count": null,
            "_view_module": "@jupyter-widgets/base",
            "_view_module_version": "1.2.0",
            "_view_name": "StyleView",
            "description_width": ""
          }
        }
      }
    }
  },
  "nbformat_minor": 0,
  "nbformat": 4,
  "cells": [
    {
      "cell_type": "markdown",
      "source": [
        "<a id='2.2'></a>\n",
        "# <font size=5 face='Roboto' color='white'>Implementing Linear Regression in JAX</font>"
      ],
      "metadata": {
        "id": "K7HWc8HCBKT7"
      }
    },
    {
      "cell_type": "code",
      "source": [
        "import jax\n",
        "import jaxlib\n",
        "import jax.numpy as jnp"
      ],
      "metadata": {
        "execution": {
          "iopub.status.busy": "2024-07-09T00:05:58.056602Z",
          "iopub.execute_input": "2024-07-09T00:05:58.056846Z",
          "iopub.status.idle": "2024-07-09T00:05:59.873076Z",
          "shell.execute_reply.started": "2024-07-09T00:05:58.056816Z",
          "shell.execute_reply": "2024-07-09T00:05:59.871665Z"
        },
        "trusted": true,
        "id": "ydX5Q_uw1swI"
      },
      "execution_count": 15,
      "outputs": []
    },
    {
      "cell_type": "code",
      "source": [
        "x = jnp.arange(5)\n",
        "print(x)"
      ],
      "metadata": {
        "execution": {
          "iopub.status.busy": "2024-07-09T00:05:59.874712Z",
          "iopub.execute_input": "2024-07-09T00:05:59.874984Z",
          "iopub.status.idle": "2024-07-09T00:06:00.179855Z",
          "shell.execute_reply.started": "2024-07-09T00:05:59.874952Z",
          "shell.execute_reply": "2024-07-09T00:06:00.1787Z"
        },
        "trusted": true,
        "colab": {
          "base_uri": "https://localhost:8080/"
        },
        "id": "YDLdheRl1swI",
        "outputId": "a8be2939-e86d-432f-b44e-e45a44983e95"
      },
      "execution_count": 16,
      "outputs": [
        {
          "output_type": "stream",
          "name": "stdout",
          "text": [
            "[0 1 2 3 4]\n"
          ]
        }
      ]
    },
    {
      "cell_type": "code",
      "source": [
        "x, type(x)"
      ],
      "metadata": {
        "execution": {
          "iopub.status.busy": "2024-07-09T00:06:00.181253Z",
          "iopub.execute_input": "2024-07-09T00:06:00.181597Z",
          "iopub.status.idle": "2024-07-09T00:06:00.191548Z",
          "shell.execute_reply.started": "2024-07-09T00:06:00.181561Z",
          "shell.execute_reply": "2024-07-09T00:06:00.190078Z"
        },
        "trusted": true,
        "colab": {
          "base_uri": "https://localhost:8080/"
        },
        "id": "lCijRPJi1swI",
        "outputId": "90146ddb-2f7e-437f-cec1-9f756258d268"
      },
      "execution_count": 17,
      "outputs": [
        {
          "output_type": "execute_result",
          "data": {
            "text/plain": [
              "(Array([0, 1, 2, 3, 4], dtype=int32), jaxlib.xla_extension.ArrayImpl)"
            ]
          },
          "metadata": {},
          "execution_count": 17
        }
      ]
    },
    {
      "cell_type": "code",
      "source": [
        "import torch\n",
        "\n",
        "tensor_a = torch.arange(1, 25., requires_grad=True)\n",
        "tensor_a"
      ],
      "metadata": {
        "execution": {
          "iopub.status.busy": "2024-07-09T00:06:00.197199Z",
          "iopub.execute_input": "2024-07-09T00:06:00.197572Z",
          "iopub.status.idle": "2024-07-09T00:06:01.87296Z",
          "shell.execute_reply.started": "2024-07-09T00:06:00.197529Z",
          "shell.execute_reply": "2024-07-09T00:06:01.871361Z"
        },
        "trusted": true,
        "colab": {
          "base_uri": "https://localhost:8080/"
        },
        "id": "81KdRLYQ1swI",
        "outputId": "7129f7f4-52ba-4646-f4cd-48f95d7f85a0"
      },
      "execution_count": 18,
      "outputs": [
        {
          "output_type": "execute_result",
          "data": {
            "text/plain": [
              "tensor([ 1.,  2.,  3.,  4.,  5.,  6.,  7.,  8.,  9., 10., 11., 12., 13., 14.,\n",
              "        15., 16., 17., 18., 19., 20., 21., 22., 23., 24.], requires_grad=True)"
            ]
          },
          "metadata": {},
          "execution_count": 18
        }
      ]
    },
    {
      "cell_type": "code",
      "source": [
        "def square(n: torch.Tensor) -> torch.Tensor:\n",
        "    return torch.sum(torch.pow(n, 2))"
      ],
      "metadata": {
        "execution": {
          "iopub.status.busy": "2024-07-09T00:06:01.874614Z",
          "iopub.execute_input": "2024-07-09T00:06:01.874968Z",
          "iopub.status.idle": "2024-07-09T00:06:01.881287Z",
          "shell.execute_reply.started": "2024-07-09T00:06:01.874917Z",
          "shell.execute_reply": "2024-07-09T00:06:01.879998Z"
        },
        "trusted": true,
        "id": "QNuROAtJ1swI"
      },
      "execution_count": 19,
      "outputs": []
    },
    {
      "cell_type": "code",
      "source": [
        "b = square(tensor_a)\n",
        "b"
      ],
      "metadata": {
        "execution": {
          "iopub.status.busy": "2024-07-09T00:06:01.882655Z",
          "iopub.execute_input": "2024-07-09T00:06:01.882944Z",
          "iopub.status.idle": "2024-07-09T00:06:01.906563Z",
          "shell.execute_reply.started": "2024-07-09T00:06:01.882909Z",
          "shell.execute_reply": "2024-07-09T00:06:01.905252Z"
        },
        "trusted": true,
        "colab": {
          "base_uri": "https://localhost:8080/"
        },
        "id": "9fnSu94q1swI",
        "outputId": "8e11edef-32c9-4533-c2d5-a7b8063302a3"
      },
      "execution_count": 20,
      "outputs": [
        {
          "output_type": "execute_result",
          "data": {
            "text/plain": [
              "tensor(4900., grad_fn=<SumBackward0>)"
            ]
          },
          "metadata": {},
          "execution_count": 20
        }
      ]
    },
    {
      "cell_type": "code",
      "source": [
        "b.backward()\n",
        "print(tensor_a.grad)\n",
        "print(tensor_a)"
      ],
      "metadata": {
        "execution": {
          "iopub.status.busy": "2024-07-09T00:06:01.907925Z",
          "iopub.execute_input": "2024-07-09T00:06:01.909112Z",
          "iopub.status.idle": "2024-07-09T00:06:01.927091Z",
          "shell.execute_reply.started": "2024-07-09T00:06:01.909069Z",
          "shell.execute_reply": "2024-07-09T00:06:01.925992Z"
        },
        "trusted": true,
        "colab": {
          "base_uri": "https://localhost:8080/"
        },
        "id": "i8bphtZO1swI",
        "outputId": "bf030e79-f6ae-4266-83d0-c15b1ac5cbfb"
      },
      "execution_count": 21,
      "outputs": [
        {
          "output_type": "stream",
          "name": "stdout",
          "text": [
            "tensor([ 2.,  4.,  6.,  8., 10., 12., 14., 16., 18., 20., 22., 24., 26., 28.,\n",
            "        30., 32., 34., 36., 38., 40., 42., 44., 46., 48.])\n",
            "tensor([ 1.,  2.,  3.,  4.,  5.,  6.,  7.,  8.,  9., 10., 11., 12., 13., 14.,\n",
            "        15., 16., 17., 18., 19., 20., 21., 22., 23., 24.], requires_grad=True)\n"
          ]
        }
      ]
    },
    {
      "cell_type": "code",
      "source": [
        "import matplotlib.pyplot as plt\n",
        "\n",
        "xs = tensor_a.detach().numpy()\n",
        "ys = xs ** 2\n",
        "y_dash = 2 * xs\n",
        "\n",
        "plt.plot(xs, ys, label='The function')\n",
        "plt.plot(xs, y_dash, label='The tangent')\n",
        "plt.legend()\n",
        "plt.title('Plotting $x^2$ and $2x$')\n",
        "plt.show()"
      ],
      "metadata": {
        "execution": {
          "iopub.status.busy": "2024-07-09T00:06:01.928541Z",
          "iopub.execute_input": "2024-07-09T00:06:01.928865Z",
          "iopub.status.idle": "2024-07-09T00:06:02.374491Z",
          "shell.execute_reply.started": "2024-07-09T00:06:01.928819Z",
          "shell.execute_reply": "2024-07-09T00:06:02.373389Z"
        },
        "trusted": true,
        "colab": {
          "base_uri": "https://localhost:8080/",
          "height": 456
        },
        "id": "DoqDlMWa1swI",
        "outputId": "3aca6239-2594-4d95-b34f-cacaf1757756"
      },
      "execution_count": 22,
      "outputs": [
        {
          "output_type": "display_data",
          "data": {
            "text/plain": [
              "<Figure size 640x480 with 1 Axes>"
            ],
            "image/png": "[encoded data removed]"
          },
          "metadata": {}
        }
      ]
    },
    {
      "cell_type": "code",
      "source": [
        "def sum_of_squares(x: jnp.ndarray):\n",
        "    return jnp.sum(x ** 2)"
      ],
      "metadata": {
        "execution": {
          "iopub.status.busy": "2024-07-09T00:06:02.37613Z",
          "iopub.execute_input": "2024-07-09T00:06:02.376495Z",
          "iopub.status.idle": "2024-07-09T00:06:02.384091Z",
          "shell.execute_reply.started": "2024-07-09T00:06:02.376446Z",
          "shell.execute_reply": "2024-07-09T00:06:02.382774Z"
        },
        "trusted": true,
        "id": "3S3HjbLg1swJ"
      },
      "execution_count": 23,
      "outputs": []
    },
    {
      "cell_type": "code",
      "source": [
        "tensor_a = jnp.arange(1, 25.)"
      ],
      "metadata": {
        "execution": {
          "iopub.status.busy": "2024-07-09T00:06:02.385876Z",
          "iopub.execute_input": "2024-07-09T00:06:02.386181Z",
          "iopub.status.idle": "2024-07-09T00:06:02.417429Z",
          "shell.execute_reply.started": "2024-07-09T00:06:02.386141Z",
          "shell.execute_reply": "2024-07-09T00:06:02.416384Z"
        },
        "trusted": true,
        "id": "am9tx9ka1swJ"
      },
      "execution_count": 24,
      "outputs": []
    },
    {
      "cell_type": "code",
      "source": [
        "sum_of_squares(tensor_a)"
      ],
      "metadata": {
        "execution": {
          "iopub.status.busy": "2024-07-09T00:06:02.418838Z",
          "iopub.execute_input": "2024-07-09T00:06:02.419181Z",
          "iopub.status.idle": "2024-07-09T00:06:02.468046Z",
          "shell.execute_reply.started": "2024-07-09T00:06:02.419136Z",
          "shell.execute_reply": "2024-07-09T00:06:02.46705Z"
        },
        "trusted": true,
        "colab": {
          "base_uri": "https://localhost:8080/"
        },
        "id": "qZcnYE0x1swJ",
        "outputId": "b3375d83-ff29-4d95-ef68-f0816cc601a8"
      },
      "execution_count": 25,
      "outputs": [
        {
          "output_type": "execute_result",
          "data": {
            "text/plain": [
              "Array(4900., dtype=float32)"
            ]
          },
          "metadata": {},
          "execution_count": 25
        }
      ]
    },
    {
      "cell_type": "code",
      "source": [
        "sum_of_squares_dx = jax.grad(sum_of_squares)      # this is, for all intents and purposes- 2x, a function that multiplies data with 2"
      ],
      "metadata": {
        "execution": {
          "iopub.status.busy": "2024-07-09T00:06:02.469508Z",
          "iopub.execute_input": "2024-07-09T00:06:02.470243Z",
          "iopub.status.idle": "2024-07-09T00:06:02.475766Z",
          "shell.execute_reply.started": "2024-07-09T00:06:02.470197Z",
          "shell.execute_reply": "2024-07-09T00:06:02.474274Z"
        },
        "trusted": true,
        "id": "xa6chvPC1swJ"
      },
      "execution_count": 26,
      "outputs": []
    },
    {
      "cell_type": "code",
      "source": [
        "sum_of_squares_dx(tensor_a)"
      ],
      "metadata": {
        "execution": {
          "iopub.status.busy": "2024-07-09T00:06:02.480387Z",
          "iopub.execute_input": "2024-07-09T00:06:02.480695Z",
          "iopub.status.idle": "2024-07-09T00:06:02.565159Z",
          "shell.execute_reply.started": "2024-07-09T00:06:02.480658Z",
          "shell.execute_reply": "2024-07-09T00:06:02.564216Z"
        },
        "trusted": true,
        "colab": {
          "base_uri": "https://localhost:8080/"
        },
        "id": "eHsnwytU1swJ",
        "outputId": "dbdd2622-09d3-4353-f405-8b25ec4498fa"
      },
      "execution_count": 27,
      "outputs": [
        {
          "output_type": "execute_result",
          "data": {
            "text/plain": [
              "Array([ 2.,  4.,  6.,  8., 10., 12., 14., 16., 18., 20., 22., 24., 26.,\n",
              "       28., 30., 32., 34., 36., 38., 40., 42., 44., 46., 48.],      dtype=float32)"
            ]
          },
          "metadata": {},
          "execution_count": 27
        }
      ]
    },
    {
      "cell_type": "code",
      "source": [
        "import pandas as pd\n",
        "import numpy as np\n",
        "import matplotlib.pyplot as plt\n",
        "\n",
        "#dataset link: https://www.kaggle.com/datasets/smid80/weatherww2/data\n",
        "\n",
        "weather_data_ = pd.read_csv('Summary of Weather.csv')\n",
        "weather_data = weather_data_[['MaxTemp', 'MinTemp']].reset_index()\n",
        "weather_data.sample(5)"
      ],
      "metadata": {
        "execution": {
          "iopub.status.busy": "2024-07-09T00:06:10.532754Z",
          "iopub.execute_input": "2024-07-09T00:06:10.53311Z",
          "iopub.status.idle": "2024-07-09T00:06:11.048582Z",
          "shell.execute_reply.started": "2024-07-09T00:06:10.533055Z",
          "shell.execute_reply": "2024-07-09T00:06:11.047742Z"
        },
        "trusted": true,
        "colab": {
          "base_uri": "https://localhost:8080/",
          "height": 240
        },
        "id": "gtHLHVFB1swN",
        "outputId": "df2d3ec2-fba6-4612-a9c0-42a39d9d06fc"
      },
      "execution_count": 28,
      "outputs": [
        {
          "output_type": "stream",
          "name": "stderr",
          "text": [
            "<ipython-input-28-6b3b1d732217>:7: DtypeWarning: Columns (7,8,18,25) have mixed types. Specify dtype option on import or set low_memory=False.\n",
            "  weather_data_ = pd.read_csv('Summary of Weather.csv')\n"
          ]
        },
        {
          "output_type": "execute_result",
          "data": {
            "text/plain": [
              "         index    MaxTemp    MinTemp\n",
              "83945    83945  20.555556  10.000000\n",
              "88083    88083  45.555556  22.777778\n",
              "117018  117018  31.666667  13.333333\n",
              "102226  102226  32.222222  23.888889\n",
              "9281      9281  27.777778  21.111111"
            ],
            "text/html": [
              "\n",
              "  <div id=\"df-f7136f48-6c9b-442a-9e10-0a4583df8437\" class=\"colab-df-container\">\n",
              "    <div>\n",
              "<style scoped>\n",
              "    .dataframe tbody tr th:only-of-type {\n",
              "        vertical-align: middle;\n",
              "    }\n",
              "\n",
              "    .dataframe tbody tr th {\n",
              "        vertical-align: top;\n",
              "    }\n",
              "\n",
              "    .dataframe thead th {\n",
              "        text-align: right;\n",
              "    }\n",
              "</style>\n",
              "<table border=\"1\" class=\"dataframe\">\n",
              "  <thead>\n",
              "    <tr style=\"text-align: right;\">\n",
              "      <th></th>\n",
              "      <th>index</th>\n",
              "      <th>MaxTemp</th>\n",
              "      <th>MinTemp</th>\n",
              "    </tr>\n",
              "  </thead>\n",
              "  <tbody>\n",
              "    <tr>\n",
              "      <th>83945</th>\n",
              "      <td>83945</td>\n",
              "      <td>20.555556</td>\n",
              "      <td>10.000000</td>\n",
              "    </tr>\n",
              "    <tr>\n",
              "      <th>88083</th>\n",
              "      <td>88083</td>\n",
              "      <td>45.555556</td>\n",
              "      <td>22.777778</td>\n",
              "    </tr>\n",
              "    <tr>\n",
              "      <th>117018</th>\n",
              "      <td>117018</td>\n",
              "      <td>31.666667</td>\n",
              "      <td>13.333333</td>\n",
              "    </tr>\n",
              "    <tr>\n",
              "      <th>102226</th>\n",
              "      <td>102226</td>\n",
              "      <td>32.222222</td>\n",
              "      <td>23.888889</td>\n",
              "    </tr>\n",
              "    <tr>\n",
              "      <th>9281</th>\n",
              "      <td>9281</td>\n",
              "      <td>27.777778</td>\n",
              "      <td>21.111111</td>\n",
              "    </tr>\n",
              "  </tbody>\n",
              "</table>\n",
              "</div>\n",
              "    <div class=\"colab-df-buttons\">\n",
              "\n",
              "  <div class=\"colab-df-container\">\n",
              "    <button class=\"colab-df-convert\" onclick=\"convertToInteractive('df-f7136f48-6c9b-442a-9e10-0a4583df8437')\"\n",
              "            title=\"Convert this dataframe to an interactive table.\"\n",
              "            style=\"display:none;\">\n",
              "\n",
              "  <svg xmlns=\"http://www.w3.org/2000/svg\" height=\"24px\" viewBox=\"0 -960 960 960\">\n",
              "    <path d=\"M120-120v-720h720v720H120Zm60-500h600v-160H180v160Zm220 220h160v-160H400v160Zm0 220h160v-160H400v160ZM180-400h160v-160H180v160Zm440 0h160v-160H620v160ZM180-180h160v-160H180v160Zm440 0h160v-160H620v160Z\"/>\n",
              "  </svg>\n",
              "    </button>\n",
              "\n",
              "  <style>\n",
              "    .colab-df-container {\n",
              "      display:flex;\n",
              "      gap: 12px;\n",
              "    }\n",
              "\n",
              "    .colab-df-convert {\n",
              "      background-color: #E8F0FE;\n",
              "      border: none;\n",
              "      border-radius: 50%;\n",
              "      cursor: pointer;\n",
              "      display: none;\n",
              "      fill: #1967D2;\n",
              "      height: 32px;\n",
              "      padding: 0 0 0 0;\n",
              "      width: 32px;\n",
              "    }\n",
              "\n",
              "    .colab-df-convert:hover {\n",
              "      background-color: #E2EBFA;\n",
              "      box-shadow: 0px 1px 2px rgba(60, 64, 67, 0.3), 0px 1px 3px 1px rgba(60, 64, 67, 0.15);\n",
              "      fill: #174EA6;\n",
              "    }\n",
              "\n",
              "    .colab-df-buttons div {\n",
              "      margin-bottom: 4px;\n",
              "    }\n",
              "\n",
              "    [theme=dark] .colab-df-convert {\n",
              "      background-color: #3B4455;\n",
              "      fill: #D2E3FC;\n",
              "    }\n",
              "\n",
              "    [theme=dark] .colab-df-convert:hover {\n",
              "      background-color: #434B5C;\n",
              "      box-shadow: 0px 1px 3px 1px rgba(0, 0, 0, 0.15);\n",
              "      filter: drop-shadow(0px 1px 2px rgba(0, 0, 0, 0.3));\n",
              "      fill: #FFFFFF;\n",
              "    }\n",
              "  </style>\n",
              "\n",
              "    <script>\n",
              "      const buttonEl =\n",
              "        document.querySelector('#df-f7136f48-6c9b-442a-9e10-0a4583df8437 button.colab-df-convert');\n",
              "      buttonEl.style.display =\n",
              "        google.colab.kernel.accessAllowed ? 'block' : 'none';\n",
              "\n",
              "      async function convertToInteractive(key) {\n",
              "        const element = document.querySelector('#df-f7136f48-6c9b-442a-9e10-0a4583df8437');\n",
              "        const dataTable =\n",
              "          await google.colab.kernel.invokeFunction('convertToInteractive',\n",
              "                                                    [key], {});\n",
              "        if (!dataTable) return;\n",
              "\n",
              "        const docLinkHtml = 'Like what you see? Visit the ' +\n",
              "          '<a target=\"_blank\" href=https://colab.research.google.com/notebooks/data_table.ipynb>data table notebook</a>'\n",
              "          + ' to learn more about interactive tables.';\n",
              "        element.innerHTML = '';\n",
              "        dataTable['output_type'] = 'display_data';\n",
              "        await google.colab.output.renderOutput(dataTable, element);\n",
              "        const docLink = document.createElement('div');\n",
              "        docLink.innerHTML = docLinkHtml;\n",
              "        element.appendChild(docLink);\n",
              "      }\n",
              "    </script>\n",
              "  </div>\n",
              "\n",
              "\n",
              "<div id=\"df-2b6e2a2d-d888-43bf-a76a-aee82eff3ae5\">\n",
              "  <button class=\"colab-df-quickchart\" onclick=\"quickchart('df-2b6e2a2d-d888-43bf-a76a-aee82eff3ae5')\"\n",
              "            title=\"Suggest charts\"\n",
              "            style=\"display:none;\">\n",
              "\n",
              "<svg xmlns=\"http://www.w3.org/2000/svg\" height=\"24px\"viewBox=\"0 0 24 24\"\n",
              "     width=\"24px\">\n",
              "    <g>\n",
              "        <path d=\"M19 3H5c-1.1 0-2 .9-2 2v14c0 1.1.9 2 2 2h14c1.1 0 2-.9 2-2V5c0-1.1-.9-2-2-2zM9 17H7v-7h2v7zm4 0h-2V7h2v10zm4 0h-2v-4h2v4z\"/>\n",
              "    </g>\n",
              "</svg>\n",
              "  </button>\n",
              "\n",
              "<style>\n",
              "  .colab-df-quickchart {\n",
              "      --bg-color: #E8F0FE;\n",
              "      --fill-color: #1967D2;\n",
              "      --hover-bg-color: #E2EBFA;\n",
              "      --hover-fill-color: #174EA6;\n",
              "      --disabled-fill-color: #AAA;\n",
              "      --disabled-bg-color: #DDD;\n",
              "  }\n",
              "\n",
              "  [theme=dark] .colab-df-quickchart {\n",
              "      --bg-color: #3B4455;\n",
              "      --fill-color: #D2E3FC;\n",
              "      --hover-bg-color: #434B5C;\n",
              "      --hover-fill-color: #FFFFFF;\n",
              "      --disabled-bg-color: #3B4455;\n",
              "      --disabled-fill-color: #666;\n",
              "  }\n",
              "\n",
              "  .colab-df-quickchart {\n",
              "    background-color: var(--bg-color);\n",
              "    border: none;\n",
              "    border-radius: 50%;\n",
              "    cursor: pointer;\n",
              "    display: none;\n",
              "    fill: var(--fill-color);\n",
              "    height: 32px;\n",
              "    padding: 0;\n",
              "    width: 32px;\n",
              "  }\n",
              "\n",
              "  .colab-df-quickchart:hover {\n",
              "    background-color: var(--hover-bg-color);\n",
              "    box-shadow: 0 1px 2px rgba(60, 64, 67, 0.3), 0 1px 3px 1px rgba(60, 64, 67, 0.15);\n",
              "    fill: var(--button-hover-fill-color);\n",
              "  }\n",
              "\n",
              "  .colab-df-quickchart-complete:disabled,\n",
              "  .colab-df-quickchart-complete:disabled:hover {\n",
              "    background-color: var(--disabled-bg-color);\n",
              "    fill: var(--disabled-fill-color);\n",
              "    box-shadow: none;\n",
              "  }\n",
              "\n",
              "  .colab-df-spinner {\n",
              "    border: 2px solid var(--fill-color);\n",
              "    border-color: transparent;\n",
              "    border-bottom-color: var(--fill-color);\n",
              "    animation:\n",
              "      spin 1s steps(1) infinite;\n",
              "  }\n",
              "\n",
              "  @keyframes spin {\n",
              "    0% {\n",
              "      border-color: transparent;\n",
              "      border-bottom-color: var(--fill-color);\n",
              "      border-left-color: var(--fill-color);\n",
              "    }\n",
              "    20% {\n",
              "      border-color: transparent;\n",
              "      border-left-color: var(--fill-color);\n",
              "      border-top-color: var(--fill-color);\n",
              "    }\n",
              "    30% {\n",
              "      border-color: transparent;\n",
              "      border-left-color: var(--fill-color);\n",
              "      border-top-color: var(--fill-color);\n",
              "      border-right-color: var(--fill-color);\n",
              "    }\n",
              "    40% {\n",
              "      border-color: transparent;\n",
              "      border-right-color: var(--fill-color);\n",
              "      border-top-color: var(--fill-color);\n",
              "    }\n",
              "    60% {\n",
              "      border-color: transparent;\n",
              "      border-right-color: var(--fill-color);\n",
              "    }\n",
              "    80% {\n",
              "      border-color: transparent;\n",
              "      border-right-color: var(--fill-color);\n",
              "      border-bottom-color: var(--fill-color);\n",
              "    }\n",
              "    90% {\n",
              "      border-color: transparent;\n",
              "      border-bottom-color: var(--fill-color);\n",
              "    }\n",
              "  }\n",
              "</style>\n",
              "\n",
              "  <script>\n",
              "    async function quickchart(key) {\n",
              "      const quickchartButtonEl =\n",
              "        document.querySelector('#' + key + ' button');\n",
              "      quickchartButtonEl.disabled = true;  // To prevent multiple clicks.\n",
              "      quickchartButtonEl.classList.add('colab-df-spinner');\n",
              "      try {\n",
              "        const charts = await google.colab.kernel.invokeFunction(\n",
              "            'suggestCharts', [key], {});\n",
              "      } catch (error) {\n",
              "        console.error('Error during call to suggestCharts:', error);\n",
              "      }\n",
              "      quickchartButtonEl.classList.remove('colab-df-spinner');\n",
              "      quickchartButtonEl.classList.add('colab-df-quickchart-complete');\n",
              "    }\n",
              "    (() => {\n",
              "      let quickchartButtonEl =\n",
              "        document.querySelector('#df-2b6e2a2d-d888-43bf-a76a-aee82eff3ae5 button');\n",
              "      quickchartButtonEl.style.display =\n",
              "        google.colab.kernel.accessAllowed ? 'block' : 'none';\n",
              "    })();\n",
              "  </script>\n",
              "</div>\n",
              "\n",
              "    </div>\n",
              "  </div>\n"
            ],
            "application/vnd.google.colaboratory.intrinsic+json": {
              "type": "dataframe",
              "summary": "{\n  \"name\": \"weather_data\",\n  \"rows\": 5,\n  \"fields\": [\n    {\n      \"column\": \"index\",\n      \"properties\": {\n        \"dtype\": \"number\",\n        \"std\": 41672,\n        \"min\": 9281,\n        \"max\": 117018,\n        \"num_unique_values\": 5,\n        \"samples\": [\n          88083,\n          9281,\n          117018\n        ],\n        \"semantic_type\": \"\",\n        \"description\": \"\"\n      }\n    },\n    {\n      \"column\": \"MaxTemp\",\n      \"properties\": {\n        \"dtype\": \"number\",\n        \"std\": 9.10670625239146,\n        \"min\": 20.55555556,\n        \"max\": 45.55555556,\n        \"num_unique_values\": 5,\n        \"samples\": [\n          45.55555556,\n          27.77777778,\n          31.66666667\n        ],\n        \"semantic_type\": \"\",\n        \"description\": \"\"\n      }\n    },\n    {\n      \"column\": \"MinTemp\",\n      \"properties\": {\n        \"dtype\": \"number\",\n        \"std\": 6.178916762704616,\n        \"min\": 10.0,\n        \"max\": 23.88888889,\n        \"num_unique_values\": 5,\n        \"samples\": [\n          22.77777778,\n          21.11111111,\n          13.33333333\n        ],\n        \"semantic_type\": \"\",\n        \"description\": \"\"\n      }\n    }\n  ]\n}"
            }
          },
          "metadata": {},
          "execution_count": 28
        }
      ]
    },
    {
      "cell_type": "code",
      "source": [
        "X, Y = jnp.array(weather_data[['MinTemp']].to_numpy(dtype=float)), jnp.array(weather_data[['MaxTemp']].to_numpy(dtype=float))"
      ],
      "metadata": {
        "execution": {
          "iopub.status.busy": "2024-07-09T00:06:11.049775Z",
          "iopub.execute_input": "2024-07-09T00:06:11.050029Z",
          "iopub.status.idle": "2024-07-09T00:06:11.070129Z",
          "shell.execute_reply.started": "2024-07-09T00:06:11.049998Z",
          "shell.execute_reply": "2024-07-09T00:06:11.069114Z"
        },
        "trusted": true,
        "id": "Htt58nBl1swN"
      },
      "execution_count": 29,
      "outputs": []
    },
    {
      "cell_type": "code",
      "source": [
        "from sklearn.model_selection import train_test_split\n",
        "\n",
        "x_train, x_test, y_train, y_test = train_test_split(X, Y, test_size=0.2, random_state=42)"
      ],
      "metadata": {
        "execution": {
          "iopub.status.busy": "2024-07-09T00:06:11.071648Z",
          "iopub.execute_input": "2024-07-09T00:06:11.071945Z",
          "iopub.status.idle": "2024-07-09T00:06:11.462407Z",
          "shell.execute_reply.started": "2024-07-09T00:06:11.07191Z",
          "shell.execute_reply": "2024-07-09T00:06:11.461396Z"
        },
        "trusted": true,
        "id": "1JVsTe-K1swN"
      },
      "execution_count": 30,
      "outputs": []
    },
    {
      "cell_type": "code",
      "source": [
        "@jax.jit\n",
        "def model(theta: jnp.ndarray, x: jnp.ndarray):\n",
        "    w, b = theta\n",
        "    return w * x + b\n",
        "\n",
        "@jax.jit\n",
        "def loss_fn(theta: jnp.ndarray, x: jnp.ndarray, y: jnp.ndarray):\n",
        "    prediction = model(theta, x)\n",
        "    return jnp.mean((prediction - y) ** 2)\n",
        "\n",
        "@jax.jit\n",
        "def update(theta: jnp.ndarray,\n",
        "          x: jnp.ndarray,\n",
        "          y: jnp.ndarray,\n",
        "          lr: float = 0.1):\n",
        "\n",
        "    return theta - lr * jax.grad(loss_fn)(theta, x, y)\n"
      ],
      "metadata": {
        "execution": {
          "iopub.status.busy": "2024-07-09T00:06:11.4638Z",
          "iopub.execute_input": "2024-07-09T00:06:11.46407Z",
          "iopub.status.idle": "2024-07-09T00:06:11.472972Z",
          "shell.execute_reply.started": "2024-07-09T00:06:11.464037Z",
          "shell.execute_reply": "2024-07-09T00:06:11.471841Z"
        },
        "trusted": true,
        "id": "j-NoBB8M1swO"
      },
      "execution_count": 31,
      "outputs": []
    },
    {
      "cell_type": "code",
      "source": [
        "theta = jnp.array([1., 1])"
      ],
      "metadata": {
        "execution": {
          "iopub.status.busy": "2024-07-09T00:06:11.474382Z",
          "iopub.execute_input": "2024-07-09T00:06:11.474661Z",
          "iopub.status.idle": "2024-07-09T00:06:11.490903Z",
          "shell.execute_reply.started": "2024-07-09T00:06:11.474627Z",
          "shell.execute_reply": "2024-07-09T00:06:11.489675Z"
        },
        "trusted": true,
        "id": "EgpG5pzM1swO"
      },
      "execution_count": 32,
      "outputs": []
    },
    {
      "cell_type": "code",
      "source": [
        "for _ in range(1000):\n",
        "    theta = update(theta, x_train, y_train, lr=0.001)\n",
        "\n",
        "plt.scatter(x_train, y_train)\n",
        "plt.plot(x_train, model(theta, x_train), 'r')\n",
        "plt.title('Regression on Temperatures During WWII')"
      ],
      "metadata": {
        "execution": {
          "iopub.status.busy": "2024-07-09T00:06:11.492816Z",
          "iopub.execute_input": "2024-07-09T00:06:11.493135Z",
          "iopub.status.idle": "2024-07-09T00:06:12.225458Z",
          "shell.execute_reply.started": "2024-07-09T00:06:11.493094Z",
          "shell.execute_reply": "2024-07-09T00:06:12.224508Z"
        },
        "trusted": true,
        "colab": {
          "base_uri": "https://localhost:8080/",
          "height": 469
        },
        "id": "PkcOneQV1swO",
        "outputId": "f67d36a1-6de8-4c1f-f894-a780260affda"
      },
      "execution_count": 33,
      "outputs": [
        {
          "output_type": "execute_result",
          "data": {
            "text/plain": [
              "Text(0.5, 1.0, 'Regression on Temperatures During WWII')"
            ]
          },
          "metadata": {},
          "execution_count": 33
        },
        {
          "output_type": "display_data",
          "data": {
            "text/plain": [
              "<Figure size 640x480 with 1 Axes>"
            ],
            "image/png": "[encoded data removed]"
          },
          "metadata": {}
        }
      ]
    },
    {
      "cell_type": "code",
      "source": [
        "from sklearn.metrics import mean_squared_error"
      ],
      "metadata": {
        "execution": {
          "iopub.status.busy": "2024-07-09T00:06:12.226705Z",
          "iopub.execute_input": "2024-07-09T00:06:12.226952Z",
          "iopub.status.idle": "2024-07-09T00:06:12.231561Z",
          "shell.execute_reply.started": "2024-07-09T00:06:12.226922Z",
          "shell.execute_reply": "2024-07-09T00:06:12.23055Z"
        },
        "trusted": true,
        "id": "BjEv5e2g1swO"
      },
      "execution_count": 34,
      "outputs": []
    },
    {
      "cell_type": "code",
      "source": [
        "mean_squared_error(np.array(y_test), np.array(model(theta, x_test)), squared=False)"
      ],
      "metadata": {
        "execution": {
          "iopub.status.busy": "2024-07-09T00:06:12.232752Z",
          "iopub.execute_input": "2024-07-09T00:06:12.233027Z",
          "iopub.status.idle": "2024-07-09T00:06:12.267937Z",
          "shell.execute_reply.started": "2024-07-09T00:06:12.232995Z",
          "shell.execute_reply": "2024-07-09T00:06:12.266982Z"
        },
        "trusted": true,
        "colab": {
          "base_uri": "https://localhost:8080/"
        },
        "id": "_L86FQCM1swO",
        "outputId": "299405e6-719e-4c00-cca0-2f71d5382def"
      },
      "execution_count": 35,
      "outputs": [
        {
          "output_type": "execute_result",
          "data": {
            "text/plain": [
              "5.0338135"
            ]
          },
          "metadata": {},
          "execution_count": 35
        }
      ]
    },
    {
      "cell_type": "code",
      "source": [
        "from jax import random\n",
        "\n",
        "key = random.PRNGKey(84)\n",
        "\n",
        "key"
      ],
      "metadata": {
        "execution": {
          "iopub.status.busy": "2024-07-09T00:06:12.269347Z",
          "iopub.execute_input": "2024-07-09T00:06:12.269708Z",
          "iopub.status.idle": "2024-07-09T00:06:12.338934Z",
          "shell.execute_reply.started": "2024-07-09T00:06:12.269663Z",
          "shell.execute_reply": "2024-07-09T00:06:12.338082Z"
        },
        "trusted": true,
        "id": "KJzG3NtG1swQ",
        "colab": {
          "base_uri": "https://localhost:8080/"
        },
        "outputId": "ae029b46-9c93-4e94-c9d9-caee0b968cf5"
      },
      "execution_count": 36,
      "outputs": [
        {
          "output_type": "execute_result",
          "data": {
            "text/plain": [
              "Array([ 0, 84], dtype=uint32)"
            ]
          },
          "metadata": {},
          "execution_count": 36
        }
      ]
    },
    {
      "cell_type": "code",
      "source": [
        "print(random.uniform(key))\n",
        "print(random.uniform(key))"
      ],
      "metadata": {
        "execution": {
          "iopub.status.busy": "2024-07-09T00:06:12.340105Z",
          "iopub.execute_input": "2024-07-09T00:06:12.340368Z",
          "iopub.status.idle": "2024-07-09T00:06:12.482785Z",
          "shell.execute_reply.started": "2024-07-09T00:06:12.340337Z",
          "shell.execute_reply": "2024-07-09T00:06:12.481793Z"
        },
        "trusted": true,
        "id": "XYg2eGaq1swQ",
        "colab": {
          "base_uri": "https://localhost:8080/"
        },
        "outputId": "d8e2c6f0-bd5b-4d03-c406-85300a923214"
      },
      "execution_count": 37,
      "outputs": [
        {
          "output_type": "stream",
          "name": "stdout",
          "text": [
            "0.4272107\n",
            "0.4272107\n"
          ]
        }
      ]
    },
    {
      "cell_type": "code",
      "source": [
        "new_key, subkey = random.split(key)\n",
        "\n",
        "del key\n",
        "\n",
        "print(random.normal(new_key))\n",
        "print(random.normal(subkey))"
      ],
      "metadata": {
        "execution": {
          "iopub.status.busy": "2024-07-09T00:06:12.484065Z",
          "iopub.execute_input": "2024-07-09T00:06:12.484342Z",
          "iopub.status.idle": "2024-07-09T00:06:12.77394Z",
          "shell.execute_reply.started": "2024-07-09T00:06:12.484289Z",
          "shell.execute_reply": "2024-07-09T00:06:12.772872Z"
        },
        "trusted": true,
        "id": "YMPEsRka1swQ",
        "colab": {
          "base_uri": "https://localhost:8080/"
        },
        "outputId": "ee14c3e0-327e-497e-99c8-739fc3276125"
      },
      "execution_count": 38,
      "outputs": [
        {
          "output_type": "stream",
          "name": "stdout",
          "text": [
            "-1.3415899\n",
            "-0.24351525\n"
          ]
        }
      ]
    },
    {
      "cell_type": "markdown",
      "source": [
        "<a id='2.2'></a>\n",
        "# <font size=5 face='Roboto' color='white'>Implementing Logistic Regression in JAX</font>"
      ],
      "metadata": {
        "id": "El-7nfQw1swQ"
      }
    },
    {
      "cell_type": "code",
      "source": [
        "@jax.jit\n",
        "def sigmoid(x: jnp.ndarray):\n",
        "    return 1 / (1 + jnp.exp(-x))"
      ],
      "metadata": {
        "execution": {
          "iopub.status.busy": "2024-07-09T00:06:12.775316Z",
          "iopub.execute_input": "2024-07-09T00:06:12.775636Z",
          "iopub.status.idle": "2024-07-09T00:06:12.781259Z",
          "shell.execute_reply.started": "2024-07-09T00:06:12.775592Z",
          "shell.execute_reply": "2024-07-09T00:06:12.780043Z"
        },
        "trusted": true,
        "id": "hsG38JTq1swQ"
      },
      "execution_count": 39,
      "outputs": []
    },
    {
      "cell_type": "code",
      "source": [
        "plt.plot(jnp.arange(-100, 101), sigmoid(jnp.arange(-100, 101)))\n",
        "plt.title('The Plot of Sigmoid Function')"
      ],
      "metadata": {
        "execution": {
          "iopub.status.busy": "2024-07-09T00:06:12.782856Z",
          "iopub.execute_input": "2024-07-09T00:06:12.783124Z",
          "iopub.status.idle": "2024-07-09T00:06:13.060426Z",
          "shell.execute_reply.started": "2024-07-09T00:06:12.783087Z",
          "shell.execute_reply": "2024-07-09T00:06:13.059555Z"
        },
        "trusted": true,
        "id": "tKIr7rFz1swQ",
        "colab": {
          "base_uri": "https://localhost:8080/",
          "height": 469
        },
        "outputId": "70f14e35-9416-4864-aab1-91cfed87ebf5"
      },
      "execution_count": 40,
      "outputs": [
        {
          "output_type": "execute_result",
          "data": {
            "text/plain": [
              "Text(0.5, 1.0, 'The Plot of Sigmoid Function')"
            ]
          },
          "metadata": {},
          "execution_count": 40
        },
        {
          "output_type": "display_data",
          "data": {
            "text/plain": [
              "<Figure size 640x480 with 1 Axes>"
            ],
            "image/png": "[encoded data removed]"
          },
          "metadata": {}
        }
      ]
    },
    {
      "cell_type": "code",
      "source": [
        "key = random.PRNGKey(42)"
      ],
      "metadata": {
        "execution": {
          "iopub.status.busy": "2024-07-09T00:06:13.061557Z",
          "iopub.execute_input": "2024-07-09T00:06:13.061782Z",
          "iopub.status.idle": "2024-07-09T00:06:13.067847Z",
          "shell.execute_reply.started": "2024-07-09T00:06:13.061753Z",
          "shell.execute_reply": "2024-07-09T00:06:13.066772Z"
        },
        "trusted": true,
        "id": "LfGeGi_d1swR"
      },
      "execution_count": 41,
      "outputs": []
    },
    {
      "cell_type": "code",
      "source": [
        "key, W_key, b_key = random.split(key, 3)"
      ],
      "metadata": {
        "execution": {
          "iopub.status.busy": "2024-07-09T00:06:13.069458Z",
          "iopub.execute_input": "2024-07-09T00:06:13.069827Z",
          "iopub.status.idle": "2024-07-09T00:06:13.242349Z",
          "shell.execute_reply.started": "2024-07-09T00:06:13.069782Z",
          "shell.execute_reply": "2024-07-09T00:06:13.241382Z"
        },
        "trusted": true,
        "id": "5_eH1qnM1swR"
      },
      "execution_count": 42,
      "outputs": []
    },
    {
      "cell_type": "code",
      "source": [
        "from math import sqrt\n",
        "\n",
        "\n",
        "def init_parameters(x: jnp.ndarray):\n",
        "    n_features = x.shape[-1]\n",
        "\n",
        "    W = random.normal(key=W_key, shape=(n_features,)) * (sqrt(2/x.shape[0]))\n",
        "    b = random.normal(key=b_key, shape=()) * (sqrt(2/x.shape[0]))\n",
        "    return W, b"
      ],
      "metadata": {
        "execution": {
          "iopub.status.busy": "2024-07-09T00:06:13.24371Z",
          "iopub.execute_input": "2024-07-09T00:06:13.243966Z",
          "iopub.status.idle": "2024-07-09T00:06:13.251138Z",
          "shell.execute_reply.started": "2024-07-09T00:06:13.243935Z",
          "shell.execute_reply": "2024-07-09T00:06:13.250134Z"
        },
        "trusted": true,
        "id": "-odvKHv91swR"
      },
      "execution_count": 43,
      "outputs": []
    },
    {
      "cell_type": "code",
      "source": [
        "@jax.jit\n",
        "def lr_model(x: jnp.ndarray, W: jnp.ndarray, b: jnp.ndarray):\n",
        "    '''\n",
        "    Implements the Logistic Regression model.\n",
        "    '''\n",
        "    return jax.nn.sigmoid(jnp.dot(x, W) + b)"
      ],
      "metadata": {
        "execution": {
          "iopub.status.busy": "2024-07-09T00:06:13.252553Z",
          "iopub.execute_input": "2024-07-09T00:06:13.252886Z",
          "iopub.status.idle": "2024-07-09T00:06:13.262127Z",
          "shell.execute_reply.started": "2024-07-09T00:06:13.252844Z",
          "shell.execute_reply": "2024-07-09T00:06:13.261241Z"
        },
        "trusted": true,
        "id": "MDFL5csk1swR"
      },
      "execution_count": 44,
      "outputs": []
    },
    {
      "cell_type": "code",
      "source": [
        "epsilon = 1e-6"
      ],
      "metadata": {
        "execution": {
          "iopub.status.busy": "2024-07-09T00:06:13.263341Z",
          "iopub.execute_input": "2024-07-09T00:06:13.263632Z",
          "iopub.status.idle": "2024-07-09T00:06:13.273223Z",
          "shell.execute_reply.started": "2024-07-09T00:06:13.2636Z",
          "shell.execute_reply": "2024-07-09T00:06:13.272361Z"
        },
        "trusted": true,
        "id": "0YU5lFos1swR"
      },
      "execution_count": 45,
      "outputs": []
    },
    {
      "cell_type": "code",
      "source": [
        "@jax.jit\n",
        "def nll_loss(W: jnp.ndarray,\n",
        "             b: jnp.ndarray):\n",
        "    predictions = lr_model(X_train, W, b)\n",
        "    label_probas = jnp.log(predictions + epsilon) * y_train + jnp.log(1 - predictions + epsilon) * (1 - y_train)\n",
        "    return -jnp.mean(label_probas)"
      ],
      "metadata": {
        "execution": {
          "iopub.status.busy": "2024-07-09T00:06:13.274601Z",
          "iopub.execute_input": "2024-07-09T00:06:13.274906Z",
          "iopub.status.idle": "2024-07-09T00:06:13.287157Z",
          "shell.execute_reply.started": "2024-07-09T00:06:13.274872Z",
          "shell.execute_reply": "2024-07-09T00:06:13.286052Z"
        },
        "trusted": true,
        "id": "1Srvuka21swR"
      },
      "execution_count": 46,
      "outputs": []
    },
    {
      "cell_type": "code",
      "source": [
        "@jax.jit\n",
        "def update(W: jnp.ndarray, b: jnp.ndarray, lr: float = 3e-3):\n",
        "\n",
        "    W_grads, b_grads = jax.grad(nll_loss, (0, 1))(W, b)\n",
        "\n",
        "    W -= lr * W_grads\n",
        "    b -= lr * b_grads\n",
        "\n",
        "    return W, b"
      ],
      "metadata": {
        "execution": {
          "iopub.status.busy": "2024-07-09T00:06:13.288542Z",
          "iopub.execute_input": "2024-07-09T00:06:13.289286Z",
          "iopub.status.idle": "2024-07-09T00:06:13.299355Z",
          "shell.execute_reply.started": "2024-07-09T00:06:13.289249Z",
          "shell.execute_reply": "2024-07-09T00:06:13.298559Z"
        },
        "trusted": true,
        "id": "cti7Iogk1swR"
      },
      "execution_count": 47,
      "outputs": []
    },
    {
      "cell_type": "markdown",
      "source": [
        "<a id='2.3'></a>\n",
        "# <font size=5 face='Roboto' color='white'> Solving a Problem with Logistic Regression</font>"
      ],
      "metadata": {
        "id": "fxisM7q01swR"
      }
    },
    {
      "cell_type": "code",
      "source": [
        "import pandas as pd\n",
        "\n",
        "#dataset link: https://www.kaggle.com/datasets/fivethirtyeight/the-ultimate-halloween-candy-power-ranking\n",
        "candy_power_data = pd.read_csv('candy-data.csv').drop(['competitorname'], axis=1)\n",
        "candy_power_data.sample(5)"
      ],
      "metadata": {
        "execution": {
          "iopub.status.busy": "2024-07-09T00:06:13.315942Z",
          "iopub.execute_input": "2024-07-09T00:06:13.316326Z",
          "iopub.status.idle": "2024-07-09T00:06:13.353576Z",
          "shell.execute_reply.started": "2024-07-09T00:06:13.316273Z",
          "shell.execute_reply": "2024-07-09T00:06:13.352607Z"
        },
        "trusted": true,
        "id": "odtTbP391swR",
        "colab": {
          "base_uri": "https://localhost:8080/",
          "height": 206
        },
        "outputId": "a7c1a61e-cc46-495b-8242-a42f06dda7d1"
      },
      "execution_count": 48,
      "outputs": [
        {
          "output_type": "execute_result",
          "data": {
            "text/plain": [
              "    chocolate  fruity  caramel  peanutyalmondy  nougat  crispedricewafer  \\\n",
              "19          0       0        0               0       0                 0   \n",
              "4           0       1        0               0       0                 0   \n",
              "27          1       0        0               0       0                 0   \n",
              "46          0       0        0               1       1                 0   \n",
              "7           0       0        0               1       0                 0   \n",
              "\n",
              "    hard  bar  pluribus  sugarpercent  pricepercent  winpercent  \n",
              "19     0    0         1         0.465         0.465   34.158958  \n",
              "4      0    0         0         0.906         0.511   52.341465  \n",
              "27     0    0         1         0.197         0.511   57.219250  \n",
              "46     0    1         0         0.465         0.767   46.296597  \n",
              "7      0    0         1         0.313         0.511   23.417824  "
            ],
            "text/html": [
              "\n",
              "  <div id=\"df-729cb4a5-c6a7-4487-9ffa-43e6e7d0b374\" class=\"colab-df-container\">\n",
              "    <div>\n",
              "<style scoped>\n",
              "    .dataframe tbody tr th:only-of-type {\n",
              "        vertical-align: middle;\n",
              "    }\n",
              "\n",
              "    .dataframe tbody tr th {\n",
              "        vertical-align: top;\n",
              "    }\n",
              "\n",
              "    .dataframe thead th {\n",
              "        text-align: right;\n",
              "    }\n",
              "</style>\n",
              "<table border=\"1\" class=\"dataframe\">\n",
              "  <thead>\n",
              "    <tr style=\"text-align: right;\">\n",
              "      <th></th>\n",
              "      <th>chocolate</th>\n",
              "      <th>fruity</th>\n",
              "      <th>caramel</th>\n",
              "      <th>peanutyalmondy</th>\n",
              "      <th>nougat</th>\n",
              "      <th>crispedricewafer</th>\n",
              "      <th>hard</th>\n",
              "      <th>bar</th>\n",
              "      <th>pluribus</th>\n",
              "      <th>sugarpercent</th>\n",
              "      <th>pricepercent</th>\n",
              "      <th>winpercent</th>\n",
              "    </tr>\n",
              "  </thead>\n",
              "  <tbody>\n",
              "    <tr>\n",
              "      <th>19</th>\n",
              "      <td>0</td>\n",
              "      <td>0</td>\n",
              "      <td>0</td>\n",
              "      <td>0</td>\n",
              "      <td>0</td>\n",
              "      <td>0</td>\n",
              "      <td>0</td>\n",
              "      <td>0</td>\n",
              "      <td>1</td>\n",
              "      <td>0.465</td>\n",
              "      <td>0.465</td>\n",
              "      <td>34.158958</td>\n",
              "    </tr>\n",
              "    <tr>\n",
              "      <th>4</th>\n",
              "      <td>0</td>\n",
              "      <td>1</td>\n",
              "      <td>0</td>\n",
              "      <td>0</td>\n",
              "      <td>0</td>\n",
              "      <td>0</td>\n",
              "      <td>0</td>\n",
              "      <td>0</td>\n",
              "      <td>0</td>\n",
              "      <td>0.906</td>\n",
              "      <td>0.511</td>\n",
              "      <td>52.341465</td>\n",
              "    </tr>\n",
              "    <tr>\n",
              "      <th>27</th>\n",
              "      <td>1</td>\n",
              "      <td>0</td>\n",
              "      <td>0</td>\n",
              "      <td>0</td>\n",
              "      <td>0</td>\n",
              "      <td>0</td>\n",
              "      <td>0</td>\n",
              "      <td>0</td>\n",
              "      <td>1</td>\n",
              "      <td>0.197</td>\n",
              "      <td>0.511</td>\n",
              "      <td>57.219250</td>\n",
              "    </tr>\n",
              "    <tr>\n",
              "      <th>46</th>\n",
              "      <td>0</td>\n",
              "      <td>0</td>\n",
              "      <td>0</td>\n",
              "      <td>1</td>\n",
              "      <td>1</td>\n",
              "      <td>0</td>\n",
              "      <td>0</td>\n",
              "      <td>1</td>\n",
              "      <td>0</td>\n",
              "      <td>0.465</td>\n",
              "      <td>0.767</td>\n",
              "      <td>46.296597</td>\n",
              "    </tr>\n",
              "    <tr>\n",
              "      <th>7</th>\n",
              "      <td>0</td>\n",
              "      <td>0</td>\n",
              "      <td>0</td>\n",
              "      <td>1</td>\n",
              "      <td>0</td>\n",
              "      <td>0</td>\n",
              "      <td>0</td>\n",
              "      <td>0</td>\n",
              "      <td>1</td>\n",
              "      <td>0.313</td>\n",
              "      <td>0.511</td>\n",
              "      <td>23.417824</td>\n",
              "    </tr>\n",
              "  </tbody>\n",
              "</table>\n",
              "</div>\n",
              "    <div class=\"colab-df-buttons\">\n",
              "\n",
              "  <div class=\"colab-df-container\">\n",
              "    <button class=\"colab-df-convert\" onclick=\"convertToInteractive('df-729cb4a5-c6a7-4487-9ffa-43e6e7d0b374')\"\n",
              "            title=\"Convert this dataframe to an interactive table.\"\n",
              "            style=\"display:none;\">\n",
              "\n",
              "  <svg xmlns=\"http://www.w3.org/2000/svg\" height=\"24px\" viewBox=\"0 -960 960 960\">\n",
              "    <path d=\"M120-120v-720h720v720H120Zm60-500h600v-160H180v160Zm220 220h160v-160H400v160Zm0 220h160v-160H400v160ZM180-400h160v-160H180v160Zm440 0h160v-160H620v160ZM180-180h160v-160H180v160Zm440 0h160v-160H620v160Z\"/>\n",
              "  </svg>\n",
              "    </button>\n",
              "\n",
              "  <style>\n",
              "    .colab-df-container {\n",
              "      display:flex;\n",
              "      gap: 12px;\n",
              "    }\n",
              "\n",
              "    .colab-df-convert {\n",
              "      background-color: #E8F0FE;\n",
              "      border: none;\n",
              "      border-radius: 50%;\n",
              "      cursor: pointer;\n",
              "      display: none;\n",
              "      fill: #1967D2;\n",
              "      height: 32px;\n",
              "      padding: 0 0 0 0;\n",
              "      width: 32px;\n",
              "    }\n",
              "\n",
              "    .colab-df-convert:hover {\n",
              "      background-color: #E2EBFA;\n",
              "      box-shadow: 0px 1px 2px rgba(60, 64, 67, 0.3), 0px 1px 3px 1px rgba(60, 64, 67, 0.15);\n",
              "      fill: #174EA6;\n",
              "    }\n",
              "\n",
              "    .colab-df-buttons div {\n",
              "      margin-bottom: 4px;\n",
              "    }\n",
              "\n",
              "    [theme=dark] .colab-df-convert {\n",
              "      background-color: #3B4455;\n",
              "      fill: #D2E3FC;\n",
              "    }\n",
              "\n",
              "    [theme=dark] .colab-df-convert:hover {\n",
              "      background-color: #434B5C;\n",
              "      box-shadow: 0px 1px 3px 1px rgba(0, 0, 0, 0.15);\n",
              "      filter: drop-shadow(0px 1px 2px rgba(0, 0, 0, 0.3));\n",
              "      fill: #FFFFFF;\n",
              "    }\n",
              "  </style>\n",
              "\n",
              "    <script>\n",
              "      const buttonEl =\n",
              "        document.querySelector('#df-729cb4a5-c6a7-4487-9ffa-43e6e7d0b374 button.colab-df-convert');\n",
              "      buttonEl.style.display =\n",
              "        google.colab.kernel.accessAllowed ? 'block' : 'none';\n",
              "\n",
              "      async function convertToInteractive(key) {\n",
              "        const element = document.querySelector('#df-729cb4a5-c6a7-4487-9ffa-43e6e7d0b374');\n",
              "        const dataTable =\n",
              "          await google.colab.kernel.invokeFunction('convertToInteractive',\n",
              "                                                    [key], {});\n",
              "        if (!dataTable) return;\n",
              "\n",
              "        const docLinkHtml = 'Like what you see? Visit the ' +\n",
              "          '<a target=\"_blank\" href=https://colab.research.google.com/notebooks/data_table.ipynb>data table notebook</a>'\n",
              "          + ' to learn more about interactive tables.';\n",
              "        element.innerHTML = '';\n",
              "        dataTable['output_type'] = 'display_data';\n",
              "        await google.colab.output.renderOutput(dataTable, element);\n",
              "        const docLink = document.createElement('div');\n",
              "        docLink.innerHTML = docLinkHtml;\n",
              "        element.appendChild(docLink);\n",
              "      }\n",
              "    </script>\n",
              "  </div>\n",
              "\n",
              "\n",
              "<div id=\"df-827af6b8-cef7-4d90-9870-53bb5c2d609e\">\n",
              "  <button class=\"colab-df-quickchart\" onclick=\"quickchart('df-827af6b8-cef7-4d90-9870-53bb5c2d609e')\"\n",
              "            title=\"Suggest charts\"\n",
              "            style=\"display:none;\">\n",
              "\n",
              "<svg xmlns=\"http://www.w3.org/2000/svg\" height=\"24px\"viewBox=\"0 0 24 24\"\n",
              "     width=\"24px\">\n",
              "    <g>\n",
              "        <path d=\"M19 3H5c-1.1 0-2 .9-2 2v14c0 1.1.9 2 2 2h14c1.1 0 2-.9 2-2V5c0-1.1-.9-2-2-2zM9 17H7v-7h2v7zm4 0h-2V7h2v10zm4 0h-2v-4h2v4z\"/>\n",
              "    </g>\n",
              "</svg>\n",
              "  </button>\n",
              "\n",
              "<style>\n",
              "  .colab-df-quickchart {\n",
              "      --bg-color: #E8F0FE;\n",
              "      --fill-color: #1967D2;\n",
              "      --hover-bg-color: #E2EBFA;\n",
              "      --hover-fill-color: #174EA6;\n",
              "      --disabled-fill-color: #AAA;\n",
              "      --disabled-bg-color: #DDD;\n",
              "  }\n",
              "\n",
              "  [theme=dark] .colab-df-quickchart {\n",
              "      --bg-color: #3B4455;\n",
              "      --fill-color: #D2E3FC;\n",
              "      --hover-bg-color: #434B5C;\n",
              "      --hover-fill-color: #FFFFFF;\n",
              "      --disabled-bg-color: #3B4455;\n",
              "      --disabled-fill-color: #666;\n",
              "  }\n",
              "\n",
              "  .colab-df-quickchart {\n",
              "    background-color: var(--bg-color);\n",
              "    border: none;\n",
              "    border-radius: 50%;\n",
              "    cursor: pointer;\n",
              "    display: none;\n",
              "    fill: var(--fill-color);\n",
              "    height: 32px;\n",
              "    padding: 0;\n",
              "    width: 32px;\n",
              "  }\n",
              "\n",
              "  .colab-df-quickchart:hover {\n",
              "    background-color: var(--hover-bg-color);\n",
              "    box-shadow: 0 1px 2px rgba(60, 64, 67, 0.3), 0 1px 3px 1px rgba(60, 64, 67, 0.15);\n",
              "    fill: var(--button-hover-fill-color);\n",
              "  }\n",
              "\n",
              "  .colab-df-quickchart-complete:disabled,\n",
              "  .colab-df-quickchart-complete:disabled:hover {\n",
              "    background-color: var(--disabled-bg-color);\n",
              "    fill: var(--disabled-fill-color);\n",
              "    box-shadow: none;\n",
              "  }\n",
              "\n",
              "  .colab-df-spinner {\n",
              "    border: 2px solid var(--fill-color);\n",
              "    border-color: transparent;\n",
              "    border-bottom-color: var(--fill-color);\n",
              "    animation:\n",
              "      spin 1s steps(1) infinite;\n",
              "  }\n",
              "\n",
              "  @keyframes spin {\n",
              "    0% {\n",
              "      border-color: transparent;\n",
              "      border-bottom-color: var(--fill-color);\n",
              "      border-left-color: var(--fill-color);\n",
              "    }\n",
              "    20% {\n",
              "      border-color: transparent;\n",
              "      border-left-color: var(--fill-color);\n",
              "      border-top-color: var(--fill-color);\n",
              "    }\n",
              "    30% {\n",
              "      border-color: transparent;\n",
              "      border-left-color: var(--fill-color);\n",
              "      border-top-color: var(--fill-color);\n",
              "      border-right-color: var(--fill-color);\n",
              "    }\n",
              "    40% {\n",
              "      border-color: transparent;\n",
              "      border-right-color: var(--fill-color);\n",
              "      border-top-color: var(--fill-color);\n",
              "    }\n",
              "    60% {\n",
              "      border-color: transparent;\n",
              "      border-right-color: var(--fill-color);\n",
              "    }\n",
              "    80% {\n",
              "      border-color: transparent;\n",
              "      border-right-color: var(--fill-color);\n",
              "      border-bottom-color: var(--fill-color);\n",
              "    }\n",
              "    90% {\n",
              "      border-color: transparent;\n",
              "      border-bottom-color: var(--fill-color);\n",
              "    }\n",
              "  }\n",
              "</style>\n",
              "\n",
              "  <script>\n",
              "    async function quickchart(key) {\n",
              "      const quickchartButtonEl =\n",
              "        document.querySelector('#' + key + ' button');\n",
              "      quickchartButtonEl.disabled = true;  // To prevent multiple clicks.\n",
              "      quickchartButtonEl.classList.add('colab-df-spinner');\n",
              "      try {\n",
              "        const charts = await google.colab.kernel.invokeFunction(\n",
              "            'suggestCharts', [key], {});\n",
              "      } catch (error) {\n",
              "        console.error('Error during call to suggestCharts:', error);\n",
              "      }\n",
              "      quickchartButtonEl.classList.remove('colab-df-spinner');\n",
              "      quickchartButtonEl.classList.add('colab-df-quickchart-complete');\n",
              "    }\n",
              "    (() => {\n",
              "      let quickchartButtonEl =\n",
              "        document.querySelector('#df-827af6b8-cef7-4d90-9870-53bb5c2d609e button');\n",
              "      quickchartButtonEl.style.display =\n",
              "        google.colab.kernel.accessAllowed ? 'block' : 'none';\n",
              "    })();\n",
              "  </script>\n",
              "</div>\n",
              "\n",
              "    </div>\n",
              "  </div>\n"
            ],
            "application/vnd.google.colaboratory.intrinsic+json": {
              "type": "dataframe",
              "summary": "{\n  \"name\": \"candy_power_data\",\n  \"rows\": 5,\n  \"fields\": [\n    {\n      \"column\": \"chocolate\",\n      \"properties\": {\n        \"dtype\": \"number\",\n        \"std\": 0,\n        \"min\": 0,\n        \"max\": 1,\n        \"num_unique_values\": 2,\n        \"samples\": [\n          1,\n          0\n        ],\n        \"semantic_type\": \"\",\n        \"description\": \"\"\n      }\n    },\n    {\n      \"column\": \"fruity\",\n      \"properties\": {\n        \"dtype\": \"number\",\n        \"std\": 0,\n        \"min\": 0,\n        \"max\": 1,\n        \"num_unique_values\": 2,\n        \"samples\": [\n          1,\n          0\n        ],\n        \"semantic_type\": \"\",\n        \"description\": \"\"\n      }\n    },\n    {\n      \"column\": \"caramel\",\n      \"properties\": {\n        \"dtype\": \"number\",\n        \"std\": 0,\n        \"min\": 0,\n        \"max\": 0,\n        \"num_unique_values\": 1,\n        \"samples\": [\n          0\n        ],\n        \"semantic_type\": \"\",\n        \"description\": \"\"\n      }\n    },\n    {\n      \"column\": \"peanutyalmondy\",\n      \"properties\": {\n        \"dtype\": \"number\",\n        \"std\": 0,\n        \"min\": 0,\n        \"max\": 1,\n        \"num_unique_values\": 2,\n        \"samples\": [\n          1\n        ],\n        \"semantic_type\": \"\",\n        \"description\": \"\"\n      }\n    },\n    {\n      \"column\": \"nougat\",\n      \"properties\": {\n        \"dtype\": \"number\",\n        \"std\": 0,\n        \"min\": 0,\n        \"max\": 1,\n        \"num_unique_values\": 2,\n        \"samples\": [\n          1\n        ],\n        \"semantic_type\": \"\",\n        \"description\": \"\"\n      }\n    },\n    {\n      \"column\": \"crispedricewafer\",\n      \"properties\": {\n        \"dtype\": \"number\",\n        \"std\": 0,\n        \"min\": 0,\n        \"max\": 0,\n        \"num_unique_values\": 1,\n        \"samples\": [\n          0\n        ],\n        \"semantic_type\": \"\",\n        \"description\": \"\"\n      }\n    },\n    {\n      \"column\": \"hard\",\n      \"properties\": {\n        \"dtype\": \"number\",\n        \"std\": 0,\n        \"min\": 0,\n        \"max\": 0,\n        \"num_unique_values\": 1,\n        \"samples\": [\n          0\n        ],\n        \"semantic_type\": \"\",\n        \"description\": \"\"\n      }\n    },\n    {\n      \"column\": \"bar\",\n      \"properties\": {\n        \"dtype\": \"number\",\n        \"std\": 0,\n        \"min\": 0,\n        \"max\": 1,\n        \"num_unique_values\": 2,\n        \"samples\": [\n          1\n        ],\n        \"semantic_type\": \"\",\n        \"description\": \"\"\n      }\n    },\n    {\n      \"column\": \"pluribus\",\n      \"properties\": {\n        \"dtype\": \"number\",\n        \"std\": 0,\n        \"min\": 0,\n        \"max\": 1,\n        \"num_unique_values\": 2,\n        \"samples\": [\n          0\n        ],\n        \"semantic_type\": \"\",\n        \"description\": \"\"\n      }\n    },\n    {\n      \"column\": \"sugarpercent\",\n      \"properties\": {\n        \"dtype\": \"number\",\n        \"std\": 0.2689427544088149,\n        \"min\": 0.197,\n        \"max\": 0.90600002,\n        \"num_unique_values\": 4,\n        \"samples\": [\n          0.90600002\n        ],\n        \"semantic_type\": \"\",\n        \"description\": \"\"\n      }\n    },\n    {\n      \"column\": \"pricepercent\",\n      \"properties\": {\n        \"dtype\": \"number\",\n        \"std\": 0.12127655750391465,\n        \"min\": 0.465,\n        \"max\": 0.76700002,\n        \"num_unique_values\": 3,\n        \"samples\": [\n          0.465\n        ],\n        \"semantic_type\": \"\",\n        \"description\": \"\"\n      }\n    },\n    {\n      \"column\": \"winpercent\",\n      \"properties\": {\n        \"dtype\": \"number\",\n        \"std\": 13.797217282025631,\n        \"min\": 23.417824,\n        \"max\": 57.21925,\n        \"num_unique_values\": 5,\n        \"samples\": [\n          52.341465\n        ],\n        \"semantic_type\": \"\",\n        \"description\": \"\"\n      }\n    }\n  ]\n}"
            }
          },
          "metadata": {},
          "execution_count": 48
        }
      ]
    },
    {
      "cell_type": "code",
      "source": [
        "X = jnp.asarray(np.array(candy_power_data.drop(['chocolate'], axis=1)), dtype='float32')\n",
        "y = jnp.asarray(np.array(candy_power_data[['chocolate']]), dtype='bool').flatten()\n",
        "\n",
        "X.shape, y.shape"
      ],
      "metadata": {
        "execution": {
          "iopub.status.busy": "2024-07-09T00:06:13.35481Z",
          "iopub.execute_input": "2024-07-09T00:06:13.355054Z",
          "iopub.status.idle": "2024-07-09T00:06:13.396201Z",
          "shell.execute_reply.started": "2024-07-09T00:06:13.355024Z",
          "shell.execute_reply": "2024-07-09T00:06:13.395358Z"
        },
        "trusted": true,
        "id": "CbhRLZVQ1swR",
        "colab": {
          "base_uri": "https://localhost:8080/"
        },
        "outputId": "b08b0162-0a08-4956-a003-84a66d109fd4"
      },
      "execution_count": 49,
      "outputs": [
        {
          "output_type": "execute_result",
          "data": {
            "text/plain": [
              "((85, 11), (85,))"
            ]
          },
          "metadata": {},
          "execution_count": 49
        }
      ]
    },
    {
      "cell_type": "code",
      "source": [
        "from sklearn.model_selection import train_test_split\n",
        "X_train, X_test, y_train, y_test = train_test_split(X, y, test_size=0.25, random_state=42)\n",
        "X_train.shape, y_train.shape, X_test.shape, y_test.shape"
      ],
      "metadata": {
        "execution": {
          "iopub.status.busy": "2024-07-09T00:06:13.397435Z",
          "iopub.execute_input": "2024-07-09T00:06:13.397685Z",
          "iopub.status.idle": "2024-07-09T00:06:13.659253Z",
          "shell.execute_reply.started": "2024-07-09T00:06:13.397656Z",
          "shell.execute_reply": "2024-07-09T00:06:13.658309Z"
        },
        "trusted": true,
        "id": "cPXngrKI1swR",
        "colab": {
          "base_uri": "https://localhost:8080/"
        },
        "outputId": "23d24f96-7087-4198-f32e-85d06112c8f0"
      },
      "execution_count": 50,
      "outputs": [
        {
          "output_type": "execute_result",
          "data": {
            "text/plain": [
              "((63, 11), (63,), (22, 11), (22,))"
            ]
          },
          "metadata": {},
          "execution_count": 50
        }
      ]
    },
    {
      "cell_type": "code",
      "source": [
        "W, b = init_parameters(X_train)"
      ],
      "metadata": {
        "execution": {
          "iopub.status.busy": "2024-07-09T00:06:13.660553Z",
          "iopub.execute_input": "2024-07-09T00:06:13.660818Z",
          "iopub.status.idle": "2024-07-09T00:06:13.956344Z",
          "shell.execute_reply.started": "2024-07-09T00:06:13.660786Z",
          "shell.execute_reply": "2024-07-09T00:06:13.955319Z"
        },
        "trusted": true,
        "id": "aqta3u2z1swS"
      },
      "execution_count": 51,
      "outputs": []
    },
    {
      "cell_type": "code",
      "source": [
        "from tqdm.notebook import tqdm\n",
        "\n",
        "for _ in tqdm(range(2_000), desc=\"Training...\"): # the main update loop\n",
        "    W, b = update(W, b, lr=0.001)"
      ],
      "metadata": {
        "execution": {
          "iopub.status.busy": "2024-07-09T00:06:13.957721Z",
          "iopub.execute_input": "2024-07-09T00:06:13.95798Z",
          "iopub.status.idle": "2024-07-09T00:06:14.277814Z",
          "shell.execute_reply.started": "2024-07-09T00:06:13.957949Z",
          "shell.execute_reply": "2024-07-09T00:06:14.276936Z"
        },
        "trusted": true,
        "id": "LXHjBZYS1swS",
        "colab": {
          "base_uri": "https://localhost:8080/",
          "height": 49,
          "referenced_widgets": [
            "6ef6991a608e4b679b0466550418bd0a",
            "c82bed2424fe4fb7bbdd0b9193b10e19",
            "56139944f4e7486dbe7ddc4d69ac91cb",
            "2e44061a4c9d4facb4bc65c2e17c6bfc",
            "f64e63311a82408690796b6a4ead6efb",
            "c8333ffca1654dd58446bfd3605f4356",
            "9dad7d51dd8c47d291afc238f2c61ef2",
            "53fe55392ae14bbb8b54e31f565c18ac",
            "97fd4584ba014fef9edbb464a3c06601",
            "ac0bea7424794aa4a066ed471ba77f0a",
            "5aef64bc906446d2af0b19a1c9f61d6f"
          ]
        },
        "outputId": "14d6a53c-2217-4293-ccf6-5b75b9534646"
      },
      "execution_count": 52,
      "outputs": [
        {
          "output_type": "display_data",
          "data": {
            "text/plain": [
              "Training...:   0%|          | 0/2000 [00:00<?, ?it/s]"
            ],
            "application/vnd.jupyter.widget-view+json": {
              "version_major": 2,
              "version_minor": 0,
              "model_id": "6ef6991a608e4b679b0466550418bd0a"
            }
          },
          "metadata": {}
        }
      ]
    },
    {
      "cell_type": "code",
      "source": [
        "def lr_model_predictor(x: jnp.ndarray,\n",
        "                      W: jnp.ndarray = W,\n",
        "                      b: jnp.ndarray = b):\n",
        "\n",
        "    pred = lr_model(x, W, b)\n",
        "    if pred > 0.5:\n",
        "        return True\n",
        "    return False"
      ],
      "metadata": {
        "execution": {
          "iopub.status.busy": "2024-07-09T00:06:14.278996Z",
          "iopub.execute_input": "2024-07-09T00:06:14.279224Z",
          "iopub.status.idle": "2024-07-09T00:06:14.28515Z",
          "shell.execute_reply.started": "2024-07-09T00:06:14.279196Z",
          "shell.execute_reply": "2024-07-09T00:06:14.284011Z"
        },
        "trusted": true,
        "id": "PrgmWX8h1swS"
      },
      "execution_count": 53,
      "outputs": []
    },
    {
      "cell_type": "code",
      "source": [
        "predictions = []\n",
        "\n",
        "for i in range(len(X_test)):\n",
        "    predictions.append(lr_model_predictor(X_test[i]))"
      ],
      "metadata": {
        "execution": {
          "iopub.status.busy": "2024-07-09T00:06:14.286348Z",
          "iopub.execute_input": "2024-07-09T00:06:14.286601Z",
          "iopub.status.idle": "2024-07-09T00:06:14.395451Z",
          "shell.execute_reply.started": "2024-07-09T00:06:14.286563Z",
          "shell.execute_reply": "2024-07-09T00:06:14.394388Z"
        },
        "trusted": true,
        "id": "3cJNsWOl1swS"
      },
      "execution_count": 54,
      "outputs": []
    },
    {
      "cell_type": "code",
      "source": [
        "from sklearn.metrics import accuracy_score"
      ],
      "metadata": {
        "execution": {
          "iopub.status.busy": "2024-07-09T00:06:14.396965Z",
          "iopub.execute_input": "2024-07-09T00:06:14.397287Z",
          "iopub.status.idle": "2024-07-09T00:06:14.401858Z",
          "shell.execute_reply.started": "2024-07-09T00:06:14.397243Z",
          "shell.execute_reply": "2024-07-09T00:06:14.400779Z"
        },
        "trusted": true,
        "id": "HPxN3hQO1swS"
      },
      "execution_count": 55,
      "outputs": []
    },
    {
      "cell_type": "code",
      "source": [
        "100*accuracy_score(predictions, y_test)"
      ],
      "metadata": {
        "execution": {
          "iopub.status.busy": "2024-07-09T00:06:14.403263Z",
          "iopub.execute_input": "2024-07-09T00:06:14.40356Z",
          "iopub.status.idle": "2024-07-09T00:06:14.417057Z",
          "shell.execute_reply.started": "2024-07-09T00:06:14.403526Z",
          "shell.execute_reply": "2024-07-09T00:06:14.416082Z"
        },
        "trusted": true,
        "id": "gNK7Z_hT1swS",
        "colab": {
          "base_uri": "https://localhost:8080/"
        },
        "outputId": "24afbbb7-37b6-4447-d650-03d8c12fe122"
      },
      "execution_count": 56,
      "outputs": [
        {
          "output_type": "execute_result",
          "data": {
            "text/plain": [
              "90.9090909090909"
            ]
          },
          "metadata": {},
          "execution_count": 56
        }
      ]
    }
  ]
}