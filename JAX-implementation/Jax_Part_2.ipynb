{
  "metadata": {
    "kernelspec": {
      "language": "python",
      "display_name": "Python 3",
      "name": "python3"
    },
    "language_info": {
      "name": "python",
      "version": "3.7.12",
      "mimetype": "text/x-python",
      "codemirror_mode": {
        "name": "ipython",
        "version": 3
      },
      "pygments_lexer": "ipython3",
      "nbconvert_exporter": "python",
      "file_extension": ".py"
    },
    "kaggle": {
      "accelerator": "gpu",
      "dataSources": [
        {
          "sourceId": 5912,
          "sourceType": "datasetVersion",
          "datasetId": 3732
        },
        {
          "sourceId": 5944,
          "sourceType": "datasetVersion",
          "datasetId": 3759
        }
      ],
      "dockerImageVersionId": 30152,
      "isInternetEnabled": false,
      "language": "python",
      "sourceType": "notebook",
      "isGpuEnabled": true
    },
    "colab": {
      "provenance": []
    },
    "widgets": {
      "application/vnd.jupyter.widget-state+json": {
        "f9ba6362caff4fb2ab001c660fef0355": {
          "model_module": "@jupyter-widgets/controls",
          "model_name": "HBoxModel",
          "model_module_version": "1.5.0",
          "state": {
            "_dom_classes": [],
            "_model_module": "@jupyter-widgets/controls",
            "_model_module_version": "1.5.0",
            "_model_name": "HBoxModel",
            "_view_count": null,
            "_view_module": "@jupyter-widgets/controls",
            "_view_module_version": "1.5.0",
            "_view_name": "HBoxView",
            "box_style": "",
            "children": [
              "IPY_MODEL_7da248a2bca94339bd621e9837d68471",
              "IPY_MODEL_9b296d5679814f5abe46f9281a77f2de",
              "IPY_MODEL_fa15503b831f47138828ee2387ba54ac"
            ],
            "layout": "IPY_MODEL_2b211581f67f46288956de5dbcc27231"
          }
        },
        "7da248a2bca94339bd621e9837d68471": {
          "model_module": "@jupyter-widgets/controls",
          "model_name": "HTMLModel",
          "model_module_version": "1.5.0",
          "state": {
            "_dom_classes": [],
            "_model_module": "@jupyter-widgets/controls",
            "_model_module_version": "1.5.0",
            "_model_name": "HTMLModel",
            "_view_count": null,
            "_view_module": "@jupyter-widgets/controls",
            "_view_module_version": "1.5.0",
            "_view_name": "HTMLView",
            "description": "",
            "description_tooltip": null,
            "layout": "IPY_MODEL_5078ab0d1f7f4be88058882264a58c3f",
            "placeholder": "​",
            "style": "IPY_MODEL_d5547a111f3842c190e27b9fe462bb06",
            "value": "Training...: 100%"
          }
        },
        "9b296d5679814f5abe46f9281a77f2de": {
          "model_module": "@jupyter-widgets/controls",
          "model_name": "FloatProgressModel",
          "model_module_version": "1.5.0",
          "state": {
            "_dom_classes": [],
            "_model_module": "@jupyter-widgets/controls",
            "_model_module_version": "1.5.0",
            "_model_name": "FloatProgressModel",
            "_view_count": null,
            "_view_module": "@jupyter-widgets/controls",
            "_view_module_version": "1.5.0",
            "_view_name": "ProgressView",
            "bar_style": "success",
            "description": "",
            "description_tooltip": null,
            "layout": "IPY_MODEL_0e99f2219dd94fc1b7a93ffbf4eb142a",
            "max": 1000,
            "min": 0,
            "orientation": "horizontal",
            "style": "IPY_MODEL_f6f782bc4a674a3eb35d932676b39d02",
            "value": 1000
          }
        },
        "fa15503b831f47138828ee2387ba54ac": {
          "model_module": "@jupyter-widgets/controls",
          "model_name": "HTMLModel",
          "model_module_version": "1.5.0",
          "state": {
            "_dom_classes": [],
            "_model_module": "@jupyter-widgets/controls",
            "_model_module_version": "1.5.0",
            "_model_name": "HTMLModel",
            "_view_count": null,
            "_view_module": "@jupyter-widgets/controls",
            "_view_module_version": "1.5.0",
            "_view_name": "HTMLView",
            "description": "",
            "description_tooltip": null,
            "layout": "IPY_MODEL_1c1f839c7097498e97aaf7b431fbcba8",
            "placeholder": "​",
            "style": "IPY_MODEL_560c42f16f03424aa9ece979458b92d6",
            "value": " 1000/1000 [00:08&lt;00:00, 151.88it/s]"
          }
        },
        "2b211581f67f46288956de5dbcc27231": {
          "model_module": "@jupyter-widgets/base",
          "model_name": "LayoutModel",
          "model_module_version": "1.2.0",
          "state": {
            "_model_module": "@jupyter-widgets/base",
            "_model_module_version": "1.2.0",
            "_model_name": "LayoutModel",
            "_view_count": null,
            "_view_module": "@jupyter-widgets/base",
            "_view_module_version": "1.2.0",
            "_view_name": "LayoutView",
            "align_content": null,
            "align_items": null,
            "align_self": null,
            "border": null,
            "bottom": null,
            "display": null,
            "flex": null,
            "flex_flow": null,
            "grid_area": null,
            "grid_auto_columns": null,
            "grid_auto_flow": null,
            "grid_auto_rows": null,
            "grid_column": null,
            "grid_gap": null,
            "grid_row": null,
            "grid_template_areas": null,
            "grid_template_columns": null,
            "grid_template_rows": null,
            "height": null,
            "justify_content": null,
            "justify_items": null,
            "left": null,
            "margin": null,
            "max_height": null,
            "max_width": null,
            "min_height": null,
            "min_width": null,
            "object_fit": null,
            "object_position": null,
            "order": null,
            "overflow": null,
            "overflow_x": null,
            "overflow_y": null,
            "padding": null,
            "right": null,
            "top": null,
            "visibility": null,
            "width": null
          }
        },
        "5078ab0d1f7f4be88058882264a58c3f": {
          "model_module": "@jupyter-widgets/base",
          "model_name": "LayoutModel",
          "model_module_version": "1.2.0",
          "state": {
            "_model_module": "@jupyter-widgets/base",
            "_model_module_version": "1.2.0",
            "_model_name": "LayoutModel",
            "_view_count": null,
            "_view_module": "@jupyter-widgets/base",
            "_view_module_version": "1.2.0",
            "_view_name": "LayoutView",
            "align_content": null,
            "align_items": null,
            "align_self": null,
            "border": null,
            "bottom": null,
            "display": null,
            "flex": null,
            "flex_flow": null,
            "grid_area": null,
            "grid_auto_columns": null,
            "grid_auto_flow": null,
            "grid_auto_rows": null,
            "grid_column": null,
            "grid_gap": null,
            "grid_row": null,
            "grid_template_areas": null,
            "grid_template_columns": null,
            "grid_template_rows": null,
            "height": null,
            "justify_content": null,
            "justify_items": null,
            "left": null,
            "margin": null,
            "max_height": null,
            "max_width": null,
            "min_height": null,
            "min_width": null,
            "object_fit": null,
            "object_position": null,
            "order": null,
            "overflow": null,
            "overflow_x": null,
            "overflow_y": null,
            "padding": null,
            "right": null,
            "top": null,
            "visibility": null,
            "width": null
          }
        },
        "d5547a111f3842c190e27b9fe462bb06": {
          "model_module": "@jupyter-widgets/controls",
          "model_name": "DescriptionStyleModel",
          "model_module_version": "1.5.0",
          "state": {
            "_model_module": "@jupyter-widgets/controls",
            "_model_module_version": "1.5.0",
            "_model_name": "DescriptionStyleModel",
            "_view_count": null,
            "_view_module": "@jupyter-widgets/base",
            "_view_module_version": "1.2.0",
            "_view_name": "StyleView",
            "description_width": ""
          }
        },
        "0e99f2219dd94fc1b7a93ffbf4eb142a": {
          "model_module": "@jupyter-widgets/base",
          "model_name": "LayoutModel",
          "model_module_version": "1.2.0",
          "state": {
            "_model_module": "@jupyter-widgets/base",
            "_model_module_version": "1.2.0",
            "_model_name": "LayoutModel",
            "_view_count": null,
            "_view_module": "@jupyter-widgets/base",
            "_view_module_version": "1.2.0",
            "_view_name": "LayoutView",
            "align_content": null,
            "align_items": null,
            "align_self": null,
            "border": null,
            "bottom": null,
            "display": null,
            "flex": null,
            "flex_flow": null,
            "grid_area": null,
            "grid_auto_columns": null,
            "grid_auto_flow": null,
            "grid_auto_rows": null,
            "grid_column": null,
            "grid_gap": null,
            "grid_row": null,
            "grid_template_areas": null,
            "grid_template_columns": null,
            "grid_template_rows": null,
            "height": null,
            "justify_content": null,
            "justify_items": null,
            "left": null,
            "margin": null,
            "max_height": null,
            "max_width": null,
            "min_height": null,
            "min_width": null,
            "object_fit": null,
            "object_position": null,
            "order": null,
            "overflow": null,
            "overflow_x": null,
            "overflow_y": null,
            "padding": null,
            "right": null,
            "top": null,
            "visibility": null,
            "width": null
          }
        },
        "f6f782bc4a674a3eb35d932676b39d02": {
          "model_module": "@jupyter-widgets/controls",
          "model_name": "ProgressStyleModel",
          "model_module_version": "1.5.0",
          "state": {
            "_model_module": "@jupyter-widgets/controls",
            "_model_module_version": "1.5.0",
            "_model_name": "ProgressStyleModel",
            "_view_count": null,
            "_view_module": "@jupyter-widgets/base",
            "_view_module_version": "1.2.0",
            "_view_name": "StyleView",
            "bar_color": null,
            "description_width": ""
          }
        },
        "1c1f839c7097498e97aaf7b431fbcba8": {
          "model_module": "@jupyter-widgets/base",
          "model_name": "LayoutModel",
          "model_module_version": "1.2.0",
          "state": {
            "_model_module": "@jupyter-widgets/base",
            "_model_module_version": "1.2.0",
            "_model_name": "LayoutModel",
            "_view_count": null,
            "_view_module": "@jupyter-widgets/base",
            "_view_module_version": "1.2.0",
            "_view_name": "LayoutView",
            "align_content": null,
            "align_items": null,
            "align_self": null,
            "border": null,
            "bottom": null,
            "display": null,
            "flex": null,
            "flex_flow": null,
            "grid_area": null,
            "grid_auto_columns": null,
            "grid_auto_flow": null,
            "grid_auto_rows": null,
            "grid_column": null,
            "grid_gap": null,
            "grid_row": null,
            "grid_template_areas": null,
            "grid_template_columns": null,
            "grid_template_rows": null,
            "height": null,
            "justify_content": null,
            "justify_items": null,
            "left": null,
            "margin": null,
            "max_height": null,
            "max_width": null,
            "min_height": null,
            "min_width": null,
            "object_fit": null,
            "object_position": null,
            "order": null,
            "overflow": null,
            "overflow_x": null,
            "overflow_y": null,
            "padding": null,
            "right": null,
            "top": null,
            "visibility": null,
            "width": null
          }
        },
        "560c42f16f03424aa9ece979458b92d6": {
          "model_module": "@jupyter-widgets/controls",
          "model_name": "DescriptionStyleModel",
          "model_module_version": "1.5.0",
          "state": {
            "_model_module": "@jupyter-widgets/controls",
            "_model_module_version": "1.5.0",
            "_model_name": "DescriptionStyleModel",
            "_view_count": null,
            "_view_module": "@jupyter-widgets/base",
            "_view_module_version": "1.2.0",
            "_view_name": "StyleView",
            "description_width": ""
          }
        }
      }
    }
  },
  "nbformat_minor": 0,
  "nbformat": 4,
  "cells": [
    {
      "cell_type": "markdown",
      "source": [
        "<a id='3.1'></a>\n",
        "# <font size=5 face='Roboto' color='white'> Neural Networks with PyTrees</font>"
      ],
      "metadata": {
        "id": "q0mAfyex1swS"
      }
    },
    {
      "cell_type": "code",
      "source": [
        "foo = [1, (2, 3), {'a': 4, 'b': 5, 'c': [3.14, (2.17, 6.28), [70, 80, 90]]}, [10, 20, 30, {'bar': 23}]]; foo"
      ],
      "metadata": {
        "execution": {
          "iopub.status.busy": "2024-07-09T00:06:14.433223Z",
          "iopub.execute_input": "2024-07-09T00:06:14.433556Z",
          "iopub.status.idle": "2024-07-09T00:06:14.448577Z",
          "shell.execute_reply.started": "2024-07-09T00:06:14.433513Z",
          "shell.execute_reply": "2024-07-09T00:06:14.447607Z"
        },
        "trusted": true,
        "id": "nEde3s0w1swS",
        "colab": {
          "base_uri": "https://localhost:8080/"
        },
        "outputId": "6b8f78e6-f03d-4b47-a0a6-c6dea2ddc5ba"
      },
      "execution_count": 27,
      "outputs": [
        {
          "output_type": "execute_result",
          "data": {
            "text/plain": [
              "[1,\n",
              " (2, 3),\n",
              " {'a': 4, 'b': 5, 'c': [3.14, (2.17, 6.28), [70, 80, 90]]},\n",
              " [10, 20, 30, {'bar': 23}]]"
            ]
          },
          "metadata": {},
          "execution_count": 27
        }
      ]
    },
    {
      "cell_type": "code",
      "source": [
        "import jax\n",
        "\n",
        "jax.tree_leaves(foo)"
      ],
      "metadata": {
        "execution": {
          "iopub.status.busy": "2024-07-09T00:06:14.449949Z",
          "iopub.execute_input": "2024-07-09T00:06:14.450514Z",
          "iopub.status.idle": "2024-07-09T00:06:14.463189Z",
          "shell.execute_reply.started": "2024-07-09T00:06:14.450465Z",
          "shell.execute_reply": "2024-07-09T00:06:14.46217Z"
        },
        "trusted": true,
        "id": "cYo6dLEk1swS",
        "colab": {
          "base_uri": "https://localhost:8080/"
        },
        "outputId": "afca079c-bf98-4bbe-ebfc-22fee2668de5"
      },
      "execution_count": 28,
      "outputs": [
        {
          "output_type": "stream",
          "name": "stderr",
          "text": [
            "<ipython-input-28-aa28110aa39a>:3: DeprecationWarning: jax.tree_leaves is deprecated: use jax.tree.leaves (jax v0.4.25 or newer) or jax.tree_util.tree_leaves (any JAX version).\n",
            "  jax.tree_leaves(foo)\n"
          ]
        },
        {
          "output_type": "execute_result",
          "data": {
            "text/plain": [
              "[1, 2, 3, 4, 5, 3.14, 2.17, 6.28, 70, 80, 90, 10, 20, 30, 23]"
            ]
          },
          "metadata": {},
          "execution_count": 28
        }
      ]
    },
    {
      "cell_type": "code",
      "source": [
        "jax.tree_map(lambda x: x ** 4, foo)"
      ],
      "metadata": {
        "execution": {
          "iopub.status.busy": "2024-07-09T00:06:14.464513Z",
          "iopub.execute_input": "2024-07-09T00:06:14.464916Z",
          "iopub.status.idle": "2024-07-09T00:06:14.479791Z",
          "shell.execute_reply.started": "2024-07-09T00:06:14.464863Z",
          "shell.execute_reply": "2024-07-09T00:06:14.478382Z"
        },
        "trusted": true,
        "id": "4_uWORDt1swS",
        "colab": {
          "base_uri": "https://localhost:8080/"
        },
        "outputId": "c8994a24-56fb-4814-a28b-c0d9a96ec97a"
      },
      "execution_count": 29,
      "outputs": [
        {
          "output_type": "stream",
          "name": "stderr",
          "text": [
            "<ipython-input-29-8fa439763006>:1: DeprecationWarning: jax.tree_map is deprecated: use jax.tree.map (jax v0.4.25 or newer) or jax.tree_util.tree_map (any JAX version).\n",
            "  jax.tree_map(lambda x: x ** 4, foo)\n"
          ]
        },
        {
          "output_type": "execute_result",
          "data": {
            "text/plain": [
              "[1,\n",
              " (16, 81),\n",
              " {'a': 256,\n",
              "  'b': 625,\n",
              "  'c': [97.21171216000002,\n",
              "   (22.173739209999997, 1555.3873945600003),\n",
              "   [24010000, 40960000, 65610000]]},\n",
              " [10000, 160000, 810000, {'bar': 279841}]]"
            ]
          },
          "metadata": {},
          "execution_count": 29
        }
      ]
    },
    {
      "cell_type": "code",
      "source": [
        "import numpy as np\n",
        "import jax.numpy as jnp\n",
        "from typing import List, Dict\n",
        "\n",
        "# code from the docs here- https://jax.readthedocs.io/en/latest/jax-101/05.1-pytrees.html#example-ml-model-parameters\n",
        "\n",
        "def init_mlp_params(layer_widths: List) -> List[Dict]:\n",
        "    params = []\n",
        "    for n_in, n_out in zip(layer_widths[:-1], layer_widths[1:]):\n",
        "        params.append(\n",
        "            dict(weights=np.random.normal(size=(n_in, n_out)) * np.sqrt(2/n_in),\n",
        "                 biases=np.ones(shape=(n_out,))\n",
        "                )\n",
        "        )\n",
        "    return params"
      ],
      "metadata": {
        "execution": {
          "iopub.status.busy": "2024-07-09T00:06:14.481146Z",
          "iopub.execute_input": "2024-07-09T00:06:14.481522Z",
          "iopub.status.idle": "2024-07-09T00:06:14.495076Z",
          "shell.execute_reply.started": "2024-07-09T00:06:14.481481Z",
          "shell.execute_reply": "2024-07-09T00:06:14.493603Z"
        },
        "trusted": true,
        "id": "ugDETc9v1swT"
      },
      "execution_count": 30,
      "outputs": []
    },
    {
      "cell_type": "code",
      "source": [
        "params = init_mlp_params([1, 128, 128, 64, 64, 1])"
      ],
      "metadata": {
        "execution": {
          "iopub.status.busy": "2024-07-09T00:06:14.496652Z",
          "iopub.execute_input": "2024-07-09T00:06:14.496969Z",
          "iopub.status.idle": "2024-07-09T00:06:14.510606Z",
          "shell.execute_reply.started": "2024-07-09T00:06:14.496925Z",
          "shell.execute_reply": "2024-07-09T00:06:14.509718Z"
        },
        "trusted": true,
        "id": "GsFd6KWW1swT"
      },
      "execution_count": 31,
      "outputs": []
    },
    {
      "cell_type": "code",
      "source": [
        "jax.tree_map(lambda x: x.shape, params)"
      ],
      "metadata": {
        "execution": {
          "iopub.status.busy": "2024-07-09T00:06:14.511923Z",
          "iopub.execute_input": "2024-07-09T00:06:14.512237Z",
          "iopub.status.idle": "2024-07-09T00:06:14.523954Z",
          "shell.execute_reply.started": "2024-07-09T00:06:14.512196Z",
          "shell.execute_reply": "2024-07-09T00:06:14.523011Z"
        },
        "trusted": true,
        "id": "MEhirUOW1swT",
        "colab": {
          "base_uri": "https://localhost:8080/"
        },
        "outputId": "9f2458c9-8dea-420c-c3aa-0f53909aadc6"
      },
      "execution_count": 32,
      "outputs": [
        {
          "output_type": "stream",
          "name": "stderr",
          "text": [
            "<ipython-input-32-8ef643eb55c2>:1: DeprecationWarning: jax.tree_map is deprecated: use jax.tree.map (jax v0.4.25 or newer) or jax.tree_util.tree_map (any JAX version).\n",
            "  jax.tree_map(lambda x: x.shape, params)\n"
          ]
        },
        {
          "output_type": "execute_result",
          "data": {
            "text/plain": [
              "[{'biases': (128,), 'weights': (1, 128)},\n",
              " {'biases': (128,), 'weights': (128, 128)},\n",
              " {'biases': (64,), 'weights': (128, 64)},\n",
              " {'biases': (64,), 'weights': (64, 64)},\n",
              " {'biases': (1,), 'weights': (64, 1)}]"
            ]
          },
          "metadata": {},
          "execution_count": 32
        }
      ]
    },
    {
      "cell_type": "code",
      "source": [
        "@jax.jit\n",
        "def forward(params: list,\n",
        "            x: jnp.ndarray):\n",
        "    *hidden, last = params\n",
        "    for layer in hidden:\n",
        "        x = jax.nn.relu(x @ layer['weights'] + layer['biases'])\n",
        "    return x @ last['weights'] + last['biases']\n",
        "\n",
        "@jax.jit\n",
        "def loss_fn(params: list,\n",
        "            x: jnp.ndarray,\n",
        "            y: jnp.ndarray):\n",
        "    return jnp.mean((forward(params, x) - y) ** 2)\n",
        "\n",
        "LEARNING_RATE = 0.0001\n",
        "\n",
        "@jax.jit\n",
        "def update(params: list,\n",
        "           x: jnp.ndarray,\n",
        "           y: jnp.ndarray) -> list:\n",
        "    grads = jax.grad(loss_fn)(params, x, y)\n",
        "    return jax.tree_util.tree_map(\n",
        "        lambda p, g: p - LEARNING_RATE * g, params, grads\n",
        "    )"
      ],
      "metadata": {
        "execution": {
          "iopub.status.busy": "2024-07-09T00:06:14.52511Z",
          "iopub.execute_input": "2024-07-09T00:06:14.525391Z",
          "iopub.status.idle": "2024-07-09T00:06:14.536223Z",
          "shell.execute_reply.started": "2024-07-09T00:06:14.525359Z",
          "shell.execute_reply": "2024-07-09T00:06:14.535276Z"
        },
        "trusted": true,
        "id": "viJj2MdC1swT"
      },
      "execution_count": 33,
      "outputs": []
    },
    {
      "cell_type": "code",
      "source": [
        "import matplotlib.pyplot as plt\n",
        "from tqdm.notebook import tqdm\n",
        "\n",
        "xs = np.random.normal(size=(1000, 1))\n",
        "ys = 0.5 * (xs + 1) ** 3\n",
        "\n",
        "for _ in tqdm(range(1000), desc='Training...'):\n",
        "    params = update(params, xs, ys)\n",
        "\n",
        "plt.scatter(xs, ys, label='Actual data')\n",
        "plt.scatter(xs, forward(params, xs), label='Model prediction')\n",
        "plt.legend();"
      ],
      "metadata": {
        "execution": {
          "iopub.status.busy": "2024-07-09T00:06:14.53749Z",
          "iopub.execute_input": "2024-07-09T00:06:14.537789Z",
          "iopub.status.idle": "2024-07-09T00:06:19.075731Z",
          "shell.execute_reply.started": "2024-07-09T00:06:14.537754Z",
          "shell.execute_reply": "2024-07-09T00:06:19.07485Z"
        },
        "trusted": true,
        "id": "t3VzFQwX1swT",
        "colab": {
          "base_uri": "https://localhost:8080/",
          "height": 462,
          "referenced_widgets": [
            "f9ba6362caff4fb2ab001c660fef0355",
            "7da248a2bca94339bd621e9837d68471",
            "9b296d5679814f5abe46f9281a77f2de",
            "fa15503b831f47138828ee2387ba54ac",
            "2b211581f67f46288956de5dbcc27231",
            "5078ab0d1f7f4be88058882264a58c3f",
            "d5547a111f3842c190e27b9fe462bb06",
            "0e99f2219dd94fc1b7a93ffbf4eb142a",
            "f6f782bc4a674a3eb35d932676b39d02",
            "1c1f839c7097498e97aaf7b431fbcba8",
            "560c42f16f03424aa9ece979458b92d6"
          ]
        },
        "outputId": "f3cd0d4d-5764-4d96-ece2-9376c83fe3c6"
      },
      "execution_count": 34,
      "outputs": [
        {
          "output_type": "display_data",
          "data": {
            "text/plain": [
              "Training...:   0%|          | 0/1000 [00:00<?, ?it/s]"
            ],
            "application/vnd.jupyter.widget-view+json": {
              "version_major": 2,
              "version_minor": 0,
              "model_id": "f9ba6362caff4fb2ab001c660fef0355"
            }
          },
          "metadata": {}
        },
        {
          "output_type": "display_data",
          "data": {
            "text/plain": [
              "<Figure size 640x480 with 1 Axes>"
            ],
            "image/png": "[encoded data removed]"
          },
          "metadata": {}
        }
      ]
    },
    {
      "cell_type": "code",
      "source": [],
      "metadata": {
        "id": "9pyGlj3r3TpW"
      },
      "execution_count": 34,
      "outputs": []
    }
  ]
}